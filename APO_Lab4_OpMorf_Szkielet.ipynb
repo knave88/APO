{
 "cells": [
  {
   "cell_type": "markdown",
   "metadata": {
    "id": "JXAve7azp2Qy"
   },
   "source": [
    "# APO Lab 4 Operacje morfologiczne i szkieletyzacja"
   ]
  },
  {
   "cell_type": "code",
   "execution_count": 23,
   "metadata": {
    "id": "c9v3DebgjLgI"
   },
   "outputs": [],
   "source": [
    "#from google.colab.patches import cv2_imshow\n",
    "import cv2\n",
    "import numpy as np\n",
    "from matplotlib import pyplot as plt"
   ]
  },
  {
   "cell_type": "markdown",
   "metadata": {
    "id": "E7AthW3AVYw4"
   },
   "source": [
    "!WAŻNE! Aby poniższy plik działał na Google Colab, należy wgrać plik 'A1_result.bmp'. Z panelu po lewej stronie wybieramy ikonę folderu ('Files') a następnie 'Upload' i wybieramy zdjęcie (wcześniej ściągnięte na dysk twardy z UBI)."
   ]
  },
  {
   "cell_type": "markdown",
   "metadata": {
    "id": "bhiwTnFcLXMl"
   },
   "source": [
    "# Zadanie 1   Algorytmy i aplikacje realizujące operacje morfologii matematycznej"
   ]
  },
  {
   "cell_type": "code",
   "execution_count": 24,
   "metadata": {
    "colab": {
     "base_uri": "https://localhost:8080/",
     "height": 517
    },
    "id": "OfYoPimSjPaX",
    "outputId": "e2397c3c-a61d-4729-91c6-af592449fdf3"
   },
   "outputs": [
    {
     "data": {
      "image/png": "[encoded data removed]",
      "text/plain": [
       "<PIL.Image.Image image mode=L size=500x500 at 0x7FC5CB5A3250>"
      ]
     },
     "metadata": {
      "tags": []
     },
     "output_type": "display_data"
    }
   ],
   "source": [
    "# Wczytanie obrazu pierwotnego\n",
    "img = cv2.imread('A1_result.bmp', cv2.IMREAD_GRAYSCALE)\n",
    "#cv2_imshow(img)\n",
    "#plt.figure(figsize=(10,10))\n",
    "plt.imshow(img)"
   ]
  },
  {
   "cell_type": "markdown",
   "metadata": {
    "id": "jdLdc8zjuL6L"
   },
   "source": [
    "## Elementy struturalne\n",
    "Właściwości filtrów morfologicznych określane są przez tzw. element strukturalny, wykorzystywany jako ruchome okno. Określony jest względem wybranego piksela, tzw. punktu centralnego lub początkowego. Dla ułatwienia przyjmuje się standardowo za punkt początkowy środkowy piksel okna. Z tego też względu rozmiar elementu struktualnego powinien być liczbą nieparzystą."
   ]
  },
  {
   "cell_type": "code",
   "execution_count": 25,
   "metadata": {
    "colab": {
     "base_uri": "https://localhost:8080/"
    },
    "id": "PYMk10n4uMi5",
    "outputId": "13db1fb3-b903-4dc0-b006-bdd6b5d54f5e"
   },
   "outputs": [
    {
     "data": {
      "text/plain": [
       "array([[1, 1, 1, 1, 1],\n",
       "       [1, 1, 1, 1, 1],\n",
       "       [1, 1, 1, 1, 1],\n",
       "       [1, 1, 1, 1, 1],\n",
       "       [1, 1, 1, 1, 1]], dtype=uint8)"
      ]
     },
     "execution_count": 25,
     "metadata": {
      "tags": []
     },
     "output_type": "execute_result"
    }
   ],
   "source": [
    "# element strukturalny o kształcie kwadratu 5x5\n",
    "cv2.getStructuringElement(cv2.MORPH_RECT,(5,5))"
   ]
  },
  {
   "cell_type": "code",
   "execution_count": 26,
   "metadata": {
    "colab": {
     "base_uri": "https://localhost:8080/"
    },
    "id": "2m4GSZy2ujdk",
    "outputId": "8c175d54-757f-4460-a335-f6a2cd1926a7"
   },
   "outputs": [
    {
     "data": {
      "text/plain": [
       "array([[1, 1],\n",
       "       [1, 1],\n",
       "       [1, 1]], dtype=uint8)"
      ]
     },
     "execution_count": 26,
     "metadata": {
      "tags": []
     },
     "output_type": "execute_result"
    }
   ],
   "source": [
    "# element strukturalny o kształcie prostokąta 2x3\n",
    "cv2.getStructuringElement(cv2.MORPH_RECT,(2,3))"
   ]
  },
  {
   "cell_type": "code",
   "execution_count": 27,
   "metadata": {
    "colab": {
     "base_uri": "https://localhost:8080/"
    },
    "id": "hWZdl7lDuphs",
    "outputId": "fecc78a3-a2ce-4a56-a8db-d122155c3a8d"
   },
   "outputs": [
    {
     "data": {
      "text/plain": [
       "array([[0, 1, 0],\n",
       "       [1, 1, 1],\n",
       "       [0, 1, 0]], dtype=uint8)"
      ]
     },
     "execution_count": 27,
     "metadata": {
      "tags": []
     },
     "output_type": "execute_result"
    }
   ],
   "source": [
    "# element strukturalny o kształcie elipsy 3x3 (bardzo zgrubne przybliżenie, takie same jak romb)\n",
    "cv2.getStructuringElement(cv2.MORPH_ELLIPSE,(3,3))"
   ]
  },
  {
   "cell_type": "code",
   "execution_count": 28,
   "metadata": {
    "colab": {
     "base_uri": "https://localhost:8080/"
    },
    "id": "oXAMnE2BvDSM",
    "outputId": "dc18a156-ec2d-420a-975d-61bb6a7f9c88"
   },
   "outputs": [
    {
     "data": {
      "text/plain": [
       "array([[0, 0, 1, 0, 0],\n",
       "       [1, 1, 1, 1, 1],\n",
       "       [1, 1, 1, 1, 1],\n",
       "       [1, 1, 1, 1, 1],\n",
       "       [0, 0, 1, 0, 0]], dtype=uint8)"
      ]
     },
     "execution_count": 28,
     "metadata": {
      "tags": []
     },
     "output_type": "execute_result"
    }
   ],
   "source": [
    "# element strukturalny o kształcie elipsy 5x5 (już wyraźnie widać kształt eliptyczny)\n",
    "cv2.getStructuringElement(cv2.MORPH_ELLIPSE,(5,5))"
   ]
  },
  {
   "cell_type": "code",
   "execution_count": 29,
   "metadata": {
    "colab": {
     "base_uri": "https://localhost:8080/"
    },
    "id": "d9aXgY1fwPG5",
    "outputId": "74136636-774b-47ec-f66e-20c97bc4914d"
   },
   "outputs": [
    {
     "data": {
      "text/plain": [
       "array([[0, 0, 1, 0, 0],\n",
       "       [0, 0, 1, 0, 0],\n",
       "       [1, 1, 1, 1, 1],\n",
       "       [0, 0, 1, 0, 0],\n",
       "       [0, 0, 1, 0, 0]], dtype=uint8)"
      ]
     },
     "execution_count": 29,
     "metadata": {
      "tags": []
     },
     "output_type": "execute_result"
    }
   ],
   "source": [
    "# element strukturalny o kształcie krzyża 5x5 \n",
    "cv2.getStructuringElement(cv2.MORPH_CROSS,(5,5))"
   ]
  },
  {
   "cell_type": "markdown",
   "metadata": {
    "id": "6hiD_fG7zfWY"
   },
   "source": [
    "Element strukturalny o kształcie rombu nie jest zaimplementowany w OpenCV, natomiast dość łatwo można to zrobic samemu. Poniżej implementacja definująca romb o zadanym promieniu (licząc z pominięciem punktu centralnego)."
   ]
  },
  {
   "cell_type": "code",
   "execution_count": 30,
   "metadata": {
    "id": "VdHorixWzc1X"
   },
   "outputs": [],
   "source": [
    "def diamond(r):\n",
    "    return np.uint8(np.add.outer(*[np.r_[:r,r:-1:-1]]*2)>=r)"
   ]
  },
  {
   "cell_type": "code",
   "execution_count": 31,
   "metadata": {
    "colab": {
     "base_uri": "https://localhost:8080/"
    },
    "id": "qkhjxQZSzsRH",
    "outputId": "d82b7915-acbb-4c83-f079-43eb19af7c6e"
   },
   "outputs": [
    {
     "data": {
      "text/plain": [
       "array([[0, 0, 1, 0, 0],\n",
       "       [0, 1, 1, 1, 0],\n",
       "       [1, 1, 1, 1, 1],\n",
       "       [0, 1, 1, 1, 0],\n",
       "       [0, 0, 1, 0, 0]], dtype=uint8)"
      ]
     },
     "execution_count": 31,
     "metadata": {
      "tags": []
     },
     "output_type": "execute_result"
    }
   ],
   "source": [
    "diamond(2)"
   ]
  },
  {
   "cell_type": "code",
   "execution_count": 32,
   "metadata": {
    "colab": {
     "base_uri": "https://localhost:8080/"
    },
    "id": "vJLGjYRj0qD6",
    "outputId": "4636e974-9cb2-45a7-8c9b-9ae449a4ceb4"
   },
   "outputs": [
    {
     "data": {
      "text/plain": [
       "array([[0, 0, 0, 1, 0, 0, 0],\n",
       "       [0, 0, 1, 1, 1, 0, 0],\n",
       "       [0, 1, 1, 1, 1, 1, 0],\n",
       "       [1, 1, 1, 1, 1, 1, 1],\n",
       "       [0, 1, 1, 1, 1, 1, 0],\n",
       "       [0, 0, 1, 1, 1, 0, 0],\n",
       "       [0, 0, 0, 1, 0, 0, 0]], dtype=uint8)"
      ]
     },
     "execution_count": 32,
     "metadata": {
      "tags": []
     },
     "output_type": "execute_result"
    }
   ],
   "source": [
    "diamond(3)"
   ]
  },
  {
   "cell_type": "markdown",
   "metadata": {
    "id": "MyLze_e9LPM5"
   },
   "source": [
    "## 1. a) erozja\n",
    "\n",
    "Erozja jest jednym z podstawowych przekształceń morfologicznych. Erozja, czyli zwężanie, jest zastosowaniem różnicy Minkowskiego do obrazu. Jej działanie polega na obcinaniu brzegów obiektu na obrazie. Jeżeli choć jeden piksel z sąsiedztwa objętego przez kernel ma wartość równą zero, punkt centralny również otrzymuje wartość zero. W przeciwnym wypadku jego wartość nie ulega zmianie."
   ]
  },
  {
   "cell_type": "code",
   "execution_count": 33,
   "metadata": {
    "id": "TanGLU-RmSvG"
   },
   "outputs": [],
   "source": [
    "# ustawienie elementu strukturalnego (kernel) \n",
    "kernel = np.ones((5,5),np.uint8)\n",
    "# wykonanie erozji morfologicznej przy użyciu zdefiniowanego elementu strukturalnego \n",
    "img_erode = cv2.erode(img, kernel, iterations = 2, borderType = cv2.BORDER_REPLICATE)\n",
    "# w tym przypadku wykonujemy dwie iteracje czyli powtarzamy wykonanie tej operacji, dla bardziej wyrażnego rezultatu\n",
    "# podobnie jak wprzypadku operacji sąsiedztwa z Lab3 mozemy podać argument borderType określjący przetwarzanie pikseli na krawędziach obrazu"
   ]
  },
  {
   "cell_type": "code",
   "execution_count": 34,
   "metadata": {
    "colab": {
     "base_uri": "https://localhost:8080/",
     "height": 517
    },
    "id": "oI-YaQP6wz9L",
    "outputId": "b53034be-9549-4c81-b376-bd7c6386919f"
   },
   "outputs": [
    {
     "data": {
      "image/png": "[encoded data removed]",
      "text/plain": [
       "<PIL.Image.Image image mode=L size=1000x500 at 0x7FC5CB55F050>"
      ]
     },
     "metadata": {
      "tags": []
     },
     "output_type": "display_data"
    }
   ],
   "source": [
    "# porównanie obrazu oryginalnego i po operacji morfologicznej\n",
    "frame = cv2.hconcat((img, img_erode))\n",
    "#cv2_imshow(frame)\n",
    "#plt.figure(figsize=(10,10))\n",
    "plt.imshow(frame)"
   ]
  },
  {
   "cell_type": "markdown",
   "metadata": {
    "id": "kh4hGtqI0lHh"
   },
   "source": [
    "Jak widać operacja erozji powoduje zmniejszenie obiektów. Ponieważ zastosowane dwie iteracje operacji erozji z dość dużym elementem strukturalnym to zmniejszenie obiektów jest bardzo zauważalne. Ponadto, część małych obiektów zniknęła całkowicie. W zależności od zastosowania może to być efekt pozytywny lub nie."
   ]
  },
  {
   "cell_type": "markdown",
   "metadata": {
    "id": "CbKaaK_aLjDY"
   },
   "source": [
    "## 1. b) dylacja\n",
    "\n",
    "Dylatacja, czyli rozszerzanie, jest zastosowaniem sumy Minkowskiego do obrazu.  Jeżeli choć jeden piksel z sąsiedztwa objętego przez kernel ma wartość równą jeden, punkt centralny również otrzymuje wartość jeden. W przeciwnym wypadku przypisywane jest mu zero. \n",
    "\n",
    "Dylatacja służy do zamykania małych otworów oraz zatok we wnętrzu figury. Obiekty zwiększają swoją objętość i jeśli dwa lub więcej obiektów położonych jest blisko siebie, zrastają się w większe obiekty."
   ]
  },
  {
   "cell_type": "code",
   "execution_count": 35,
   "metadata": {
    "colab": {
     "base_uri": "https://localhost:8080/",
     "height": 517
    },
    "id": "sKmwB_xrGi7R",
    "outputId": "2fd47bd0-b2cc-46a1-d5b7-959e1548ab1e"
   },
   "outputs": [
    {
     "data": {
      "image/png": "[encoded data removed]",
      "text/plain": [
       "<PIL.Image.Image image mode=L size=1000x500 at 0x7FC5DA40B690>"
      ]
     },
     "metadata": {
      "tags": []
     },
     "output_type": "display_data"
    }
   ],
   "source": [
    "# wykonanie erozji morfologicznej przy użyciu zdefiniowanego elementu strukturalnego \n",
    "img_dilate = cv2.dilate(img, kernel, iterations = 2, borderType = cv2.BORDER_REPLICATE)\n",
    "\n",
    "frame = cv2.hconcat((img, img_dilate))\n",
    "#cv2_imshow(frame)\n",
    "#plt.figure(figsize=(10,10))\n",
    "plt.imshow(frame)\n"
   ]
  },
  {
   "cell_type": "markdown",
   "metadata": {
    "id": "_QVTKwQs4MNc"
   },
   "source": [
    "Jak widać operacja dylacji powoduje powiększenie obiektów. Należy zwrócić uwagę na kształt krawędzi obiektów który jest zależny od kształtu elementu strukturalnego. Im element strukturalny ma ostre krawędze tym bardziej \"kanciaste\" będą obiekty. Im bardziej element strukturalny przypomina koło tym bardziej obłe będą krawędzie obiektów."
   ]
  },
  {
   "cell_type": "markdown",
   "metadata": {
    "id": "I6W6QgZenwVp"
   },
   "source": [
    "## 1. c) otwarcie mofologiczne\n",
    "\n",
    "Otwarcie morfologiczne jest równoważne nałożeniu operacji dylatacji na wynik erozji obrazu pierwotnego. Dzięki zastosowaniu dwóch podstawowych operacji w parze możliwe jest pozbycie się niedogodności związanej ze zmianą rozmiaru obiektów. \n",
    "\n",
    "Operacja otwarcia zachowuje rozmiary obiektów obrazu przy ich jednoczesnym wygładzeniu – usunięciu wszystkich „wystających” elementów. Często używana do usuwania małych obiektów (artefaktów/\"śmieci\") z obrazu."
   ]
  },
  {
   "cell_type": "code",
   "execution_count": 36,
   "metadata": {
    "colab": {
     "base_uri": "https://localhost:8080/",
     "height": 517
    },
    "id": "m7ZMr-sx_nlk",
    "outputId": "51587453-1555-4323-93d2-f19e899c8eaf"
   },
   "outputs": [
    {
     "data": {
      "image/png": "[encoded data removed]",
      "text/plain": [
       "<PIL.Image.Image image mode=L size=1000x500 at 0x7FC5CB554290>"
      ]
     },
     "metadata": {
      "tags": []
     },
     "output_type": "display_data"
    }
   ],
   "source": [
    "# wykonanie operacji otwarcia morfologicznego przy użyciu zdefiniowanego elementu strukturalnego \n",
    "img_open = cv2.morphologyEx(img, cv2.MORPH_OPEN, kernel, borderType = cv2.BORDER_REPLICATE)\n",
    "\n",
    "frame = cv2.hconcat((img, img_open))\n",
    "#cv2_imshow(frame)\n",
    "#plt.figure(figsize=(10,10))\n",
    "plt.imshow(frame)"
   ]
  },
  {
   "cell_type": "markdown",
   "metadata": {
    "id": "pWdzj77hn8Br"
   },
   "source": [
    "## 1. d) zamknięcie morfologiczne\n",
    "\n",
    "Operacja zamknięcia (czasem zwana domknięciem) morfologicznego jest równoważna nałożeniu operacji erozji na wynik dylatacji obrazu pierwotnego. Domknięcie usuwa z obrazu „dziury” oraz wklęsłości mniejsze od elementu strukturalnego. Uwaga, obietky mogą się połączyć."
   ]
  },
  {
   "cell_type": "code",
   "execution_count": 37,
   "metadata": {
    "colab": {
     "base_uri": "https://localhost:8080/",
     "height": 517
    },
    "id": "JQWlVdGL_oHx",
    "outputId": "98a393e5-0293-499a-a0eb-721074efd63c"
   },
   "outputs": [
    {
     "data": {
      "image/png": "[encoded data removed]",
      "text/plain": [
       "<PIL.Image.Image image mode=L size=1000x500 at 0x7FC5CB5D3C90>"
      ]
     },
     "metadata": {
      "tags": []
     },
     "output_type": "display_data"
    }
   ],
   "source": [
    "# wykonanie operacji zamknięcia morfologicznego przy użyciu zdefiniowanego elementu strukturalnego \n",
    "img_close = cv2.morphologyEx(img, cv2.MORPH_CLOSE, kernel, borderType = cv2.BORDER_REPLICATE)\n",
    "\n",
    "frame = cv2.hconcat((img, img_close))\n",
    "#cv2_imshow(frame)\n",
    "#plt.figure(figsize=(10,10))\n",
    "plt.imshow(frame)"
   ]
  },
  {
   "cell_type": "markdown",
   "metadata": {
    "id": "FSqH5Agf6msQ"
   },
   "source": [
    "## Podsumowanie Zadania 1\n",
    "\n",
    "Pisząc program należy pamiętać o tym że użytownik powinien mieć do wyboru kształt elementu strukturalnego jak i jego rozmiar. Należy również sprawdzić czy obraz jest binarny. W wyniku przeprowadzenia operacji morfologicznych uzyskujemy obraz o tym samym rozmiarze."
   ]
  },
  {
   "cell_type": "markdown",
   "metadata": {
    "id": "a6nW3jPWb7S6"
   },
   "source": [
    "# Zadanie 2 operacje sąsiedztwa – filtracja dwu i jedno etapowa"
   ]
  },
  {
   "cell_type": "markdown",
   "metadata": {
    "id": "z9N7haLQezww"
   },
   "source": [
    "Przyjmijmy sytuację w której mamy jedną maskę filtracji *mF* o rozmiarze 3x3 oraz drugą maskę filtracji *mG* o rozmiarze 3x3. Obraz wejściowy w naszych założeniach możemy uznać za dwuwymiarowy sygnał wejściowy *x*. Wynik kolejnej filtracji (kaskadowej) dwoma maskami możemy zapisać w ten sposób:\n",
    "\n",
    "`y=mG∗(mF∗x)`\n",
    "\n",
    "Ważną cechą (i wiele ułatwiającą w tym wypadku) konwolucji jest jej łączność. Dzięki temu powyższy zapis można przedstawić również tak:\n",
    "\n",
    "`y=g∗(mF∗x)=(mG∗mF)∗x=mH∗x`\n",
    "\n",
    "Gdzie: `mH = mG*mF = mF*mG`\n",
    "\n",
    "Z tego wynika, że możliwe jest uzyskanie jednej maski filtracji, dającej ten sam efekt, przez konwolucję dwóch masek podstawowych.\n",
    "\n"
   ]
  },
  {
   "cell_type": "code",
   "execution_count": 38,
   "metadata": {
    "colab": {
     "base_uri": "https://localhost:8080/"
    },
    "id": "t4o7xKX5ezX3",
    "outputId": "ac3cdd2a-e1d8-4f19-d70e-5c16fbd87122"
   },
   "outputs": [
    {
     "data": {
      "text/plain": [
       "array([[1., 1., 1.],\n",
       "       [1., 1., 1.],\n",
       "       [1., 1., 1.]])"
      ]
     },
     "execution_count": 38,
     "metadata": {
      "tags": []
     },
     "output_type": "execute_result"
    }
   ],
   "source": [
    "# utworzenie pierwszej maski 3x3 - wygładzenie\n",
    "mF = np.ones((3,3))\n",
    "mF"
   ]
  },
  {
   "cell_type": "code",
   "execution_count": 39,
   "metadata": {
    "colab": {
     "base_uri": "https://localhost:8080/"
    },
    "id": "cD6OPMerNWbC",
    "outputId": "72528098-f865-473a-a939-cb06ffa52bd0"
   },
   "outputs": [
    {
     "data": {
      "text/plain": [
       "array([[ 1, -2,  1],\n",
       "       [-2,  4, -2],\n",
       "       [ 1, -2,  1]])"
      ]
     },
     "execution_count": 39,
     "metadata": {
      "tags": []
     },
     "output_type": "execute_result"
    }
   ],
   "source": [
    "# utworzenie drugiej maski 3x3 - wyostrzenie\n",
    "mG = np.array([[1, -2, 1], \n",
    "               [-2, 4, -2], \n",
    "               [1, -2, 1]])\n",
    "mG"
   ]
  },
  {
   "cell_type": "code",
   "execution_count": 40,
   "metadata": {
    "colab": {
     "base_uri": "https://localhost:8080/"
    },
    "id": "EoVUkjU7kgKB",
    "outputId": "57bac5e3-a8b1-481a-83e5-e9dd295f4bfd"
   },
   "outputs": [
    {
     "data": {
      "text/plain": [
       "array([[ 1., -1.,  0., -1.,  1.],\n",
       "       [-1.,  1.,  0.,  1., -1.],\n",
       "       [ 0.,  0.,  0.,  0.,  0.],\n",
       "       [-1.,  1.,  0.,  1., -1.],\n",
       "       [ 1., -1.,  0., -1.,  1.]])"
      ]
     },
     "execution_count": 40,
     "metadata": {
      "tags": []
     },
     "output_type": "execute_result"
    }
   ],
   "source": [
    "# konstrukcja maski w oparciu o dwie powyższe maski 3x3 \n",
    "# wykorzystanie konwolucji do wygenerowania maski 5x5\n",
    "from scipy.signal import convolve2d as conv2 # funkcja konwolucji dwuwymiraowej\n",
    "mH = conv2(mF, mG, mode='full') # mode full zapewnia odpowieni rozmiar maski\n",
    "mH"
   ]
  },
  {
   "cell_type": "code",
   "execution_count": 41,
   "metadata": {
    "colab": {
     "base_uri": "https://localhost:8080/",
     "height": 517
    },
    "id": "No0jmv4otVWM",
    "outputId": "dc1c4b5f-0487-44f1-9bf1-fd61d58209ff"
   },
   "outputs": [
    {
     "data": {
      "image/png": "[encoded data removed]",
      "text/plain": [
       "<PIL.Image.Image image mode=L size=1000x500 at 0x7FC5BCC36810>"
      ]
     },
     "metadata": {
      "tags": []
     },
     "output_type": "display_data"
    }
   ],
   "source": [
    "# wykonanie dwu etapowej filtracji z maskami 3x3 (jak w Lab3)\n",
    "res_step1 = cv2.filter2D(img,cv2.CV_64F, mF, borderType = cv2.BORDER_REPLICATE)\n",
    "res_step2 = cv2.filter2D(res_step1,cv2.CV_64F, mG, borderType = cv2.BORDER_REPLICATE)\n",
    "#cv2_imshow(res_step22)\n",
    "\n",
    "# wykonanie jednoetapowej filtracji z maską 5x5\n",
    "res_5x5 = cv2.filter2D(img,cv2.CV_64F, mH, borderType = cv2.BORDER_REPLICATE)\n",
    "#cv2_imshow(res_5x5)\n",
    "\n",
    "# wizualne porównanie wyników\n",
    "frame = cv2.hconcat((res_step2, res_5x5))\n",
    "#cv2_imshow(frame)\n",
    "#plt.figure(figsize=(10,10))\n",
    "plt.imshow(frame)"
   ]
  },
  {
   "cell_type": "markdown",
   "metadata": {
    "id": "jmwoQ74zBGhF"
   },
   "source": [
    "W przedstawiony powyżej sposób możemy przekształcić dowolne dwie maski w jedną. Należy jednak pamiętać o tym że maska wynikowa ma inny rozmiar niż maski bazowe."
   ]
  },
  {
   "cell_type": "markdown",
   "metadata": {
    "id": "qg8FawxFb88I"
   },
   "source": [
    "# Zadanie 3 Operacja szkieletyzacji (ścieniania)"
   ]
  },
  {
   "cell_type": "markdown",
   "metadata": {
    "id": "eoz4P7igfiCs"
   },
   "source": [
    "Szkielet figury, to zbiór wszystkich punktów równoodległych od co najmniej dwóch brzegów. Szkielet odzwierciedla podstawowe własności topologiczne figury, a jego dalsza analiza może zostać wykorzystana do wielu celów.\n",
    "\n",
    "Szkieletyzacja jest operacją wyznaczania liniowej reprezentacji (szkieletów) figur na analizowanym obrazie. Można ją wyznaczać między innymi przy użyciu operacji morfologicznych. Poniżej przedstawiona jest bardzo uproszczona implementacja.\n",
    "\n",
    "\n",
    "---\n",
    "\n",
    "\n",
    "ALGORYTM:\n",
    "1.   Utworzenie pustego obrazu do przechowania szkieletu (*skel*).\n",
    "2.   Wykonanie operacji otwarcia morfologicznego na obrazie oryginalnym, uzyskując *im_open*. \n",
    "3.   Odjęcie im_open od obrazu oryginalnego, uzyskując *im_temp*.\n",
    "4.   Wykonanie operacji erozji na oryginalnym obrazie oraz poprawienie szkieletu przez obliczenie części wspólnej *im_temp* oraz aktualnego szkieletu.\n",
    "5.   Powtórzenie kroków 2-4 aż obraz oryginalny będzie pusty (kompletnie zerodowany).\n",
    "\n",
    "\n"
   ]
  },
  {
   "cell_type": "code",
   "execution_count": 42,
   "metadata": {
    "id": "C8XtWwBmauQX"
   },
   "outputs": [],
   "source": [
    "# Krok 1\n",
    "size = np.size(img)\n",
    "skel = np.zeros(img.shape, np.uint8)\n",
    "im_copy = img.copy()\n",
    "\n",
    "# utoworzenie kernela\n",
    "element = cv2.getStructuringElement(cv2.MORPH_CROSS, (3,3))"
   ]
  },
  {
   "cell_type": "code",
   "execution_count": 43,
   "metadata": {
    "id": "xyf5mCPEdrp1"
   },
   "outputs": [],
   "source": [
    "# Pętla obejmująca kroki 2-4\n",
    "while True:\n",
    "    #Krok 2: Otwarcie morfologiczne\n",
    "    im_open = cv2.morphologyEx(im_copy, cv2.MORPH_OPEN, element)\n",
    "    #Krok 3: Odjęcie powyższego wyniku od obrazu oryginalnego\n",
    "    im_temp = cv2.subtract(im_copy, im_open)\n",
    "    #Krok 4: \n",
    "    #erozja morfologiczna\n",
    "    im_eroded = cv2.erode(im_copy, element)\n",
    "    # aktualizacja szkieletu\n",
    "    skel = cv2.bitwise_or(skel,im_temp)\n",
    "    # aktualizacja obrazu przetwarzanego\n",
    "    im_copy = im_eroded.copy()\n",
    "    #cv2_imshow(im_copy)                                                        # Odkomentuj jeśli chcesz zobaczyć kolejne kroki - uwaga wiele obrazów\n",
    "\n",
    "    #Krok 5: Przetwij pętlę jeśli nie ma już obiektów w obrazie\n",
    "    if cv2.countNonZero(im_copy)==0:\n",
    "        break\n"
   ]
  },
  {
   "cell_type": "code",
   "execution_count": 44,
   "metadata": {
    "colab": {
     "base_uri": "https://localhost:8080/",
     "height": 517
    },
    "id": "9XiOODrdb9yj",
    "outputId": "453eb29f-e405-412b-f80c-0ce1d8762184"
   },
   "outputs": [
    {
     "data": {
      "image/png": "[encoded data removed]",
      "text/plain": [
       "<PIL.Image.Image image mode=L size=1000x500 at 0x7FC5BCC36C10>"
      ]
     },
     "metadata": {
      "tags": []
     },
     "output_type": "display_data"
    }
   ],
   "source": [
    "# wizualne porównanie wyników\n",
    "frame = cv2.hconcat((img, skel))\n",
    "#cv2_imshow(frame)\n",
    "#plt.figure(figsize=(10,10))\n",
    "plt.imshow(frame)"
   ]
  },
  {
   "cell_type": "markdown",
   "metadata": {
    "id": "3Df5Cu687sYL"
   },
   "source": [
    "Pisząc program należy sprawdzić czy obraz wejściowy jest binarny. W wyniku przeprowadzenia operacji szkieletyzacji uzyskujemy obraz o tym samym rozmiarze."
   ]
  },
  {
   "cell_type": "markdown",
   "metadata": {
    "id": "w0SWPC1OC_D3"
   },
   "source": [
    "# Zadanie Dodatkowe czyli po co operacje morfologiczne?"
   ]
  },
  {
   "cell_type": "markdown",
   "metadata": {
    "id": "dHqmn8a8BpVt"
   },
   "source": [
    "## Prezentacja obiektów\n",
    "\n",
    "Załóżmy, że dany obraz 'A1_result.bmp' jest wynikiem segmentacji testowanego nowego algorytmu segmentacji (prawie zgodne z prawdą - dodałem trochę dziur i szumu dla lepszego efektu op. morfologicznych). Chcemy na podstawie tej maski binarnej zaprezentować jedynie znalezione obiekty w obrazie 'A1.bmp'. Można do tego celu wykorzystać operacje morfologiczne i operacje jednopunktowe dwuargumentowe."
   ]
  },
  {
   "cell_type": "code",
   "execution_count": 45,
   "metadata": {
    "id": "T7VYt2QwcKxC"
   },
   "outputs": [],
   "source": [
    "# element strukturalny o kształcie kwadratu 5x5\n",
    "strel1 = cv2.getStructuringElement(cv2.MORPH_RECT,(5,5))\n",
    "\n",
    "# wykonanie operacji otwarcia morfologicznego przy użyciu zdefiniowanego elementu strukturalnego \n",
    "img_open2 = cv2.morphologyEx(img, cv2.MORPH_OPEN, strel1, borderType = cv2.BORDER_REPLICATE)\n",
    "\n",
    "# wykonanie operacji dylacji czyli powiększenia obiektów przy użyciu elementu strukturalnego o kształcie elipsy, bo zależy nam na obłych krawędziach\n",
    "img_dilate2 = cv2.dilate(img_open2, cv2.getStructuringElement(cv2.MORPH_ELLIPSE,(5,5)), borderType = cv2.BORDER_REPLICATE)\n"
   ]
  },
  {
   "cell_type": "markdown",
   "metadata": {
    "id": "RNqssEJaEcq4"
   },
   "source": [
    "Należy załadować plik 'A1.bmp'."
   ]
  },
  {
   "cell_type": "code",
   "execution_count": 47,
   "metadata": {
    "colab": {
     "base_uri": "https://localhost:8080/",
     "height": 517
    },
    "id": "K---LMfCEb4R",
    "outputId": "1c2de105-00c7-435c-871b-c7051e015e20"
   },
   "outputs": [
    {
     "data": {
      "image/png": "[encoded data removed]",
      "text/plain": [
       "<PIL.Image.Image image mode=RGB size=500x500 at 0x7FC5BCC4A2D0>"
      ]
     },
     "metadata": {
      "tags": []
     },
     "output_type": "display_data"
    }
   ],
   "source": [
    "img_color = cv2.imread('A1.bmp', cv2.IMREAD_COLOR)\n",
    "\n",
    "mask = img_dilate2.reshape(*img_dilate2.shape, 1) /255\n",
    "\n",
    "#img_result = cv2.bitwise_and(img_color, img_dilate2)\n",
    "img_result = img_color * mask\n",
    "\n",
    "#cv2_imshow(img_result)\n",
    "#plt.figure(figsize=(10,10))\n",
    "plt.imshow(img_result)"
   ]
  },
  {
   "cell_type": "markdown",
   "metadata": {
    "id": "m4m4jRmrIIbj"
   },
   "source": [
    "## Krawędzie obiektów\n",
    "\n",
    "Dzięki operacjom morfologicznym można również w łatwy sposób uzyskać krawedzie znalezionych obiektów. Odpowiednio dobranym elementem strukturalnym kontrolujemy grubość krawędzi."
   ]
  },
  {
   "cell_type": "code",
   "execution_count": 48,
   "metadata": {
    "colab": {
     "base_uri": "https://localhost:8080/",
     "height": 517
    },
    "id": "ZIOZC3j8F0MI",
    "outputId": "24629653-3dbe-4710-eb43-af1ed0c67fe9"
   },
   "outputs": [
    {
     "data": {
      "image/png": "[encoded data removed]",
      "text/plain": [
       "<PIL.Image.Image image mode=L size=500x500 at 0x7FC5BCC367D0>"
      ]
     },
     "metadata": {
      "tags": []
     },
     "output_type": "display_data"
    }
   ],
   "source": [
    "# element strukturalny o kształcie kwadratu 5x5\n",
    "strel3 = cv2.getStructuringElement(cv2.MORPH_RECT,(5,5))\n",
    "# wykonanie operacji dylacji \n",
    "img_dilate3 = cv2.dilate(img, strel3, borderType = cv2.BORDER_REPLICATE)\n",
    "# wykonanie operacji erozji\n",
    "img_erode3 = cv2.erode(img, strel3, borderType = cv2.BORDER_REPLICATE)\n",
    "# uzyskanie obrazu krawędzi przez różnicę powyższych rezultatów\n",
    "img_result3 = img_dilate3 - img_erode3\n",
    "\n",
    "#cv2_imshow(img_result3)\n",
    "#plt.figure(figsize=(10,10))\n",
    "plt.imshow(img_result3)"
   ]
  },
  {
   "cell_type": "code",
   "execution_count": 49,
   "metadata": {
    "colab": {
     "base_uri": "https://localhost:8080/",
     "height": 517
    },
    "id": "V6LV4bNpJK89",
    "outputId": "85689f9b-2188-49eb-9a31-c17aee23015f"
   },
   "outputs": [
    {
     "data": {
      "image/png": "[encoded data removed]",
      "text/plain": [
       "<PIL.Image.Image image mode=L size=500x500 at 0x7FC5BCC51190>"
      ]
     },
     "metadata": {
      "tags": []
     },
     "output_type": "display_data"
    }
   ],
   "source": [
    "# element strukturalny o kształcie krzyża 3x3\n",
    "strel3 = cv2.getStructuringElement(cv2.MORPH_CROSS,(3,3))\n",
    "# wykonanie operacji dylacji \n",
    "img_dilate3 = cv2.dilate(img, strel3, borderType = cv2.BORDER_REPLICATE)\n",
    "# wykonanie operacji erozji\n",
    "img_erode3 = cv2.erode(img, strel3, borderType = cv2.BORDER_REPLICATE)\n",
    "# uzyskanie obrazu krawędzi przez różnicę powyższych rezultatów\n",
    "img_result3 = img_dilate3 - img_erode3\n",
    "\n",
    "#cv2_imshow(img_result3)\n",
    "#plt.figure(figsize=(10,10))\n",
    "plt.imshow(img_result3)"
   ]
  },
  {
   "cell_type": "code",
   "execution_count": null,
   "metadata": {
    "id": "vDUQhC6pJhHk"
   },
   "outputs": [],
   "source": []
  }
 ],
 "metadata": {
  "colab": {
   "collapsed_sections": [],
   "name": "APO_Lab4_OpMorf_Szkielet.ipynb",
   "provenance": [],
   "toc_visible": true
  },
  "kernelspec": {
   "display_name": "Python 3",
   "language": "python",
   "name": "python3"
  },
  "language_info": {
   "codemirror_mode": {
    "name": "ipython",
    "version": 3
   },
   "file_extension": ".py",
   "mimetype": "text/x-python",
   "name": "python",
   "nbconvert_exporter": "python",
   "pygments_lexer": "ipython3",
   "version": "3.6.10"
  },
  "varInspector": {
   "cols": {
    "lenName": 16,
    "lenType": 16,
    "lenVar": 40
   },
   "kernels_config": {
    "python": {
     "delete_cmd_postfix": "",
     "delete_cmd_prefix": "del ",
     "library": "var_list.py",
     "varRefreshCmd": "print(var_dic_list())"
    },
    "r": {
     "delete_cmd_postfix": ") ",
     "delete_cmd_prefix": "rm(",
     "library": "var_list.r",
     "varRefreshCmd": "cat(var_dic_list()) "
    }
   },
   "types_to_exclude": [
    "module",
    "function",
    "builtin_function_or_method",
    "instance",
    "_Feature"
   ],
   "window_display": false
  }
 },
 "nbformat": 4,
 "nbformat_minor": 1
}
