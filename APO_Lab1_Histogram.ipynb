{
 "cells": [
  {
   "cell_type": "markdown",
   "metadata": {
    "id": "JXAve7azp2Qy"
   },
   "source": [
    "# Image histogram"
   ]
  },
  {
   "cell_type": "code",
   "execution_count": null,
   "metadata": {
    "executionInfo": {
     "elapsed": 769,
     "status": "ok",
     "timestamp": 1615377607453,
     "user": {
      "displayName": "Łukasz Roszkowiak",
      "photoUrl": "",
      "userId": "11129872457337404255"
     },
     "user_tz": -60
    },
    "id": "c9v3DebgjLgI"
   },
   "outputs": [],
   "source": [
    "#from google.colab.patches import cv2_imshow\n",
    "import cv2\n",
    "import numpy as np\n",
    "from matplotlib import pyplot as plt"
   ]
  },
  {
   "cell_type": "markdown",
   "metadata": {
    "id": "qlss8OOHpvng"
   },
   "source": [
    "# Monochrome"
   ]
  },
  {
   "cell_type": "code",
   "execution_count": null,
   "metadata": {
    "colab": {
     "base_uri": "https://localhost:8080/",
     "height": 529
    },
    "executionInfo": {
     "elapsed": 1611,
     "status": "ok",
     "timestamp": 1615377630873,
     "user": {
      "displayName": "Łukasz Roszkowiak",
      "photoUrl": "",
      "userId": "11129872457337404255"
     },
     "user_tz": -60
    },
    "id": "OfYoPimSjPaX",
    "outputId": "81a76fa6-bd18-4458-95e5-bed4b305fc61"
   },
   "outputs": [],
   "source": [
    "img = cv2.imread('lena_gray.bmp', cv2.IMREAD_GRAYSCALE)\n",
    "\n",
    "#cv2_imshow(img)\n",
    "#plt.figure(figsize=(10,10))\n",
    "plt.imshow(cv2.cvtColor(img, cv2.COLOR_BGR2RGB))"
   ]
  },
  {
   "cell_type": "code",
   "execution_count": null,
   "metadata": {
    "colab": {
     "base_uri": "https://localhost:8080/"
    },
    "executionInfo": {
     "elapsed": 757,
     "status": "ok",
     "timestamp": 1615377636172,
     "user": {
      "displayName": "Łukasz Roszkowiak",
      "photoUrl": "",
      "userId": "11129872457337404255"
     },
     "user_tz": -60
    },
    "id": "TanGLU-RmSvG",
    "outputId": "46cad9a3-9986-49dc-cdc0-9eeaa35f19aa"
   },
   "outputs": [],
   "source": [
    "img.shape"
   ]
  },
  {
   "cell_type": "code",
   "execution_count": null,
   "metadata": {
    "colab": {
     "base_uri": "https://localhost:8080/"
    },
    "executionInfo": {
     "elapsed": 753,
     "status": "ok",
     "timestamp": 1615377643317,
     "user": {
      "displayName": "Łukasz Roszkowiak",
      "photoUrl": "",
      "userId": "11129872457337404255"
     },
     "user_tz": -60
    },
    "id": "CA5n0Ft7os0r",
    "outputId": "f41a99ec-941c-4cde-b787-fbcb5d38f10e"
   },
   "outputs": [],
   "source": [
    "hist = cv2.calcHist([img],[0],None,[256],[0,256])\n",
    "hist"
   ]
  },
  {
   "cell_type": "code",
   "execution_count": null,
   "metadata": {
    "colab": {
     "base_uri": "https://localhost:8080/",
     "height": 265
    },
    "executionInfo": {
     "elapsed": 1102,
     "status": "ok",
     "timestamp": 1615377658533,
     "user": {
      "displayName": "Łukasz Roszkowiak",
      "photoUrl": "",
      "userId": "11129872457337404255"
     },
     "user_tz": -60
    },
    "id": "mgDR7sb5pG_q",
    "outputId": "9bfbd24f-3c37-403b-9064-e3ab9adf1596"
   },
   "outputs": [],
   "source": [
    "plt.hist(img.ravel(),256,[0,256]); plt.show()"
   ]
  },
  {
   "cell_type": "markdown",
   "metadata": {
    "id": "j6So3zaQppV7"
   },
   "source": [
    "# Colorimage"
   ]
  },
  {
   "cell_type": "code",
   "execution_count": null,
   "metadata": {
    "colab": {
     "base_uri": "https://localhost:8080/",
     "height": 529
    },
    "executionInfo": {
     "elapsed": 3081,
     "status": "ok",
     "timestamp": 1615377667934,
     "user": {
      "displayName": "Łukasz Roszkowiak",
      "photoUrl": "",
      "userId": "11129872457337404255"
     },
     "user_tz": -60
    },
    "id": "_l0iFAAKpjY0",
    "outputId": "41fc21aa-3d9b-46e5-be15-57ed46dedccc"
   },
   "outputs": [],
   "source": [
    "img2 = cv2.imread('lena.bmp', cv2.IMREAD_UNCHANGED)\n",
    "#cv2_imshow(img2)\n",
    "#plt.figure(figsize=(10,10))\n",
    "plt.imshow(cv2.cvtColor(img2, cv2.COLOR_BGR2RGB))"
   ]
  },
  {
   "cell_type": "code",
   "execution_count": null,
   "metadata": {
    "colab": {
     "base_uri": "https://localhost:8080/"
    },
    "executionInfo": {
     "elapsed": 767,
     "status": "ok",
     "timestamp": 1615377672073,
     "user": {
      "displayName": "Łukasz Roszkowiak",
      "photoUrl": "",
      "userId": "11129872457337404255"
     },
     "user_tz": -60
    },
    "id": "yf4f13f5pm6f",
    "outputId": "7b7cfc97-8623-4fab-de14-4c1053f1a397"
   },
   "outputs": [],
   "source": [
    "img2.shape"
   ]
  },
  {
   "cell_type": "code",
   "execution_count": null,
   "metadata": {
    "colab": {
     "base_uri": "https://localhost:8080/",
     "height": 265
    },
    "executionInfo": {
     "elapsed": 921,
     "status": "ok",
     "timestamp": 1615377681427,
     "user": {
      "displayName": "Łukasz Roszkowiak",
      "photoUrl": "",
      "userId": "11129872457337404255"
     },
     "user_tz": -60
    },
    "id": "MFNXUxZHpjkV",
    "outputId": "403101c5-b066-4f13-da78-cfae281ed2f8"
   },
   "outputs": [],
   "source": [
    "color = ('b','g','r')\n",
    "for i,col in enumerate(color):\n",
    "    histr = cv2.calcHist([img2],[i],None,[256],[0,256])\n",
    "    plt.plot(histr,color = col)\n",
    "    plt.xlim([0,256])\n",
    "plt.show()"
   ]
  },
  {
   "cell_type": "markdown",
   "metadata": {
    "id": "D0nFwUcstgEZ"
   },
   "source": [
    "## Region of Interest"
   ]
  },
  {
   "cell_type": "code",
   "execution_count": null,
   "metadata": {
    "colab": {
     "base_uri": "https://localhost:8080/",
     "height": 287
    },
    "executionInfo": {
     "elapsed": 766,
     "status": "ok",
     "timestamp": 1615377709957,
     "user": {
      "displayName": "Łukasz Roszkowiak",
      "photoUrl": "",
      "userId": "11129872457337404255"
     },
     "user_tz": -60
    },
    "id": "RC17F6thtNXA",
    "outputId": "c762b97a-fab5-4306-a69e-d64e41e2306f"
   },
   "outputs": [],
   "source": [
    "# create a mask\n",
    "mask = np.zeros(img.shape[:2], np.uint8)\n",
    "mask[100:300, 100:400] = 255\n",
    "masked_img = cv2.bitwise_and(img,img,mask = mask)\n",
    "\n",
    "plt.imshow(mask,'gray')"
   ]
  },
  {
   "cell_type": "code",
   "execution_count": null,
   "metadata": {
    "colab": {
     "base_uri": "https://localhost:8080/",
     "height": 704
    },
    "executionInfo": {
     "elapsed": 2483,
     "status": "ok",
     "timestamp": 1615377730697,
     "user": {
      "displayName": "Łukasz Roszkowiak",
      "photoUrl": "",
      "userId": "11129872457337404255"
     },
     "user_tz": -60
    },
    "id": "sPXEOefBtNgR",
    "outputId": "6b65041c-7fd4-47ad-d688-ae502f13a571"
   },
   "outputs": [],
   "source": [
    "# Calculate histogram with mask and without mask\n",
    "# Check third argument for mask\n",
    "hist_full = cv2.calcHist([img],[0],None,[256],[0,256])\n",
    "hist_mask = cv2.calcHist([img],[0],mask,[256],[0,256])\n",
    "\n",
    "plt.figure(figsize=(12,12))\n",
    "plt.subplot(221), plt.imshow(img, 'gray')\n",
    "plt.subplot(222), plt.imshow(mask,'gray')\n",
    "plt.subplot(223), plt.imshow(masked_img, 'gray')\n",
    "plt.subplot(224), plt.plot(hist_full), plt.plot(hist_mask)\n",
    "plt.xlim([0,256])\n",
    "\n",
    "plt.show()"
   ]
  },
  {
   "cell_type": "markdown",
   "metadata": {
    "id": "Nb50V6hLtu5A"
   },
   "source": [
    "## Simple implementation on grayscale"
   ]
  },
  {
   "cell_type": "code",
   "execution_count": null,
   "metadata": {
    "colab": {
     "base_uri": "https://localhost:8080/"
    },
    "executionInfo": {
     "elapsed": 784,
     "status": "ok",
     "timestamp": 1615377773053,
     "user": {
      "displayName": "Łukasz Roszkowiak",
      "photoUrl": "",
      "userId": "11129872457337404255"
     },
     "user_tz": -60
    },
    "id": "6Om-J92umS5R",
    "outputId": "7543f305-3764-4234-9bdf-9a1b9267d55a"
   },
   "outputs": [],
   "source": [
    "my_hist =np.zeros(256)\n",
    "print(my_hist.shape)\n",
    "print(my_hist)"
   ]
  },
  {
   "cell_type": "code",
   "execution_count": null,
   "metadata": {
    "executionInfo": {
     "elapsed": 906,
     "status": "ok",
     "timestamp": 1615377812240,
     "user": {
      "displayName": "Łukasz Roszkowiak",
      "photoUrl": "",
      "userId": "11129872457337404255"
     },
     "user_tz": -60
    },
    "id": "FKHkRZb9zC85"
   },
   "outputs": [],
   "source": [
    "for h in range(img.shape[0]):\n",
    "  for w in range(img.shape[1]):\n",
    "    current_pixel = img[h,w]\n",
    "    #print(current_pixel)\n",
    "    my_hist[current_pixel] += 1\n"
   ]
  },
  {
   "cell_type": "code",
   "execution_count": null,
   "metadata": {
    "colab": {
     "base_uri": "https://localhost:8080/"
    },
    "executionInfo": {
     "elapsed": 842,
     "status": "ok",
     "timestamp": 1615377815480,
     "user": {
      "displayName": "Łukasz Roszkowiak",
      "photoUrl": "",
      "userId": "11129872457337404255"
     },
     "user_tz": -60
    },
    "id": "qHmq92FnnPXr",
    "outputId": "5481ecf1-af9d-4866-ea19-fc4485ecb289"
   },
   "outputs": [],
   "source": [
    "my_hist"
   ]
  },
  {
   "cell_type": "code",
   "execution_count": null,
   "metadata": {
    "colab": {
     "base_uri": "https://localhost:8080/",
     "height": 283
    },
    "executionInfo": {
     "elapsed": 1091,
     "status": "ok",
     "timestamp": 1615377831093,
     "user": {
      "displayName": "Łukasz Roszkowiak",
      "photoUrl": "",
      "userId": "11129872457337404255"
     },
     "user_tz": -60
    },
    "id": "nllf1YC6y488",
    "outputId": "d001a6ad-596a-4245-debe-62d0d1522272"
   },
   "outputs": [],
   "source": [
    "plt.plot(my_hist)"
   ]
  },
  {
   "cell_type": "code",
   "execution_count": null,
   "metadata": {
    "colab": {
     "base_uri": "https://localhost:8080/",
     "height": 208
    },
    "executionInfo": {
     "elapsed": 1569,
     "status": "ok",
     "timestamp": 1615377835953,
     "user": {
      "displayName": "Łukasz Roszkowiak",
      "photoUrl": "",
      "userId": "11129872457337404255"
     },
     "user_tz": -60
    },
    "id": "eiyS2oi5zbLf",
    "outputId": "8421e530-25cb-414b-cba4-387f17fcef32"
   },
   "outputs": [],
   "source": [
    "plt.figure(figsize=(20,10))\n",
    "plt.subplot(331), plt.plot(my_hist)\n",
    "plt.subplot(332), plt.hist(img.ravel(),256,[0,256]); plt.show()"
   ]
  }
 ],
 "metadata": {
  "colab": {
   "authorship_tag": "ABX9TyOMGxdtsTmcywoax7o20azE",
   "collapsed_sections": [],
   "name": "APO_Lab1_Histogram.ipynb",
   "provenance": []
  },
  "kernelspec": {
   "display_name": "Python 3",
   "language": "python",
   "name": "python3"
  },
  "language_info": {
   "codemirror_mode": {
    "name": "ipython",
    "version": 3
   },
   "file_extension": ".py",
   "mimetype": "text/x-python",
   "name": "python",
   "nbconvert_exporter": "python",
   "pygments_lexer": "ipython3",
   "version": "3.6.5"
  },
  "varInspector": {
   "cols": {
    "lenName": 16,
    "lenType": 16,
    "lenVar": 40
   },
   "kernels_config": {
    "python": {
     "delete_cmd_postfix": "",
     "delete_cmd_prefix": "del ",
     "library": "var_list.py",
     "varRefreshCmd": "print(var_dic_list())"
    },
    "r": {
     "delete_cmd_postfix": ") ",
     "delete_cmd_prefix": "rm(",
     "library": "var_list.r",
     "varRefreshCmd": "cat(var_dic_list()) "
    }
   },
   "types_to_exclude": [
    "module",
    "function",
    "builtin_function_or_method",
    "instance",
    "_Feature"
   ],
   "window_display": false
  }
 },
 "nbformat": 4,
 "nbformat_minor": 1
}
