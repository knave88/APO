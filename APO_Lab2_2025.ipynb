{
 "cells": [
  {
   "cell_type": "markdown",
   "metadata": {
    "id": "JXAve7azp2Qy"
   },
   "source": [
    "# APO Lab 3 "
   ]
  },
  {
   "cell_type": "markdown",
   "metadata": {},
   "source": [
    "## Posterize\n",
    "\n",
    "Redukcja poziomów szarości przez posteryzację. Polega na równomiernym rozłożeniu zakresów jasności które są ujednolicane do wspólnej wartości. Na przykład dla 2 poziomów posteryzacja odpowiada binaryzacji z progiem 127. \n",
    "\n",
    "Realizacja tej metody przez UOP przyjmuje postać wykresu schodkowego (jak na rysunku poniżej).\n",
    "\n",
    "![alt text](https://github.com/knave88/APO/raw/main/posterize.png)\n"
   ]
  },
  {
   "cell_type": "code",
   "execution_count": null,
   "metadata": {},
   "outputs": [],
   "source": [
    "myPosterizeBinsNum = 8\n",
    "\n",
    "\n",
    "print('my number of Bins: '+str(myPosterizeBinsNum)) \n",
    "print('my Bin length: '+str(np.round(255/myPosterizeBinsNum))) \n",
    "print('my Posterization Bins: '+str(np.arange(0,255,np.round(255/myPosterizeBinsNum))))"
   ]
  },
  {
   "cell_type": "code",
   "execution_count": null,
   "metadata": {},
   "outputs": [],
   "source": [
    "# calc size of binning\n",
    "myBins = np.arange(0,255,np.round(255/myPosterizeBinsNum))\n",
    "\n",
    "#init output image\n",
    "img_pstrz = np.zeros_like(img_gray)\n",
    "# loop through image\n",
    "for h in range(img_gray.shape[0]):\n",
    "  for w in range(img_gray.shape[1]):\n",
    "    current_pixel = img_gray[h,w]\n",
    "\n",
    "    # loop through bins\n",
    "    for bin in range(myPosterizeBinsNum):\n",
    "      #print(myBins[bin])\n",
    "      if (current_pixel>myBins[bin]): img_pstrz[h,w]=myBins[bin] # if inside bin assign value\n",
    "\n",
    "    if (current_pixel>myBins[-1]): img_pstrz[h,w]=255 # last bin -> fill with max value\n",
    "\n",
    "# display output image\n",
    "#cv2_imshow(img_pstrz)\n",
    "#plt.figure(figsize=(10,10))\n",
    "plt.imshow(cv2.cvtColor(img_pstrz, cv2.COLOR_BGR2RGB))"
   ]
  },
  {
   "cell_type": "markdown",
   "metadata": {},
   "source": [
    "## Posterize with LUT"
   ]
  },
  {
   "cell_type": "code",
   "execution_count": null,
   "metadata": {},
   "outputs": [],
   "source": [
    "# init LUT\n",
    "bin_length = np.round(255/myPosterizeBinsNum).astype(int)\n",
    "lut_pstrz = []\n",
    "\n",
    "# popualte LUT\n",
    "for bin in range(myPosterizeBinsNum):\n",
    "  temp = np.ones(bin_length,)*myBins[bin] #temp vector\n",
    "  lut_pstrz = np.hstack((lut_pstrz, temp)) #concatenate\n",
    "lut_pstrz = np.hstack((lut_pstrz, np.ones(bin_length,)*255)) #last bin \n",
    "\n",
    "lut_pstrz.shape # check LUT size"
   ]
  },
  {
   "cell_type": "code",
   "execution_count": null,
   "metadata": {},
   "outputs": [],
   "source": [
    "# show LUT\n",
    "lut_pstrz"
   ]
  },
  {
   "cell_type": "code",
   "execution_count": null,
   "metadata": {},
   "outputs": [],
   "source": [
    "# apply LUT\n",
    "img_pstrz2 = lut_pstrz[img_gray].astype('uint8')\n",
    "\n",
    "#cv2_imshow(img_pstrz2)\n",
    "#plt.figure(figsize=(10,10))\n",
    "plt.imshow(cv2.cvtColor(img_pstrz2, cv2.COLOR_BGR2RGB))"
   ]
  },
  {
   "cell_type": "markdown",
   "metadata": {},
   "source": [
    "Podsumowując, do zaimplementowania operacji punktowych często jest konieczne pobieranie od użytkownika dodatkowych wartości parametrów. Można to rozwiązać jako pole do wpisywania wartości lub suwak ograniczający możliwość wyboru wartości. Operacje punktowe mają swoje odniesienie w UOP a co za tym idzie można w prosty sposób rozwiązać stosując tablicę LUT. "
   ]
  },
  {
   "cell_type": "markdown",
   "metadata": {},
   "source": [
    "# Operacje sąsiedztwa"
   ]
  },
  {
   "cell_type": "code",
   "execution_count": null,
   "metadata": {
    "id": "c9v3DebgjLgI"
   },
   "outputs": [],
   "source": [
    "#from google.colab.patches import cv2_imshow\n",
    "import cv2\n",
    "import numpy as np\n",
    "from matplotlib import pyplot as plt"
   ]
  },
  {
   "cell_type": "markdown",
   "metadata": {
    "id": "E7AthW3AVYw4"
   },
   "source": [
    "!WAŻNE! Aby poniższy plik działał na Google Colab, należy wgrać plik 'lena_gray.bmp' oraz 'testing.bmp'. Z panelu po lewej stronie wybieramy ikonę folderu ('Files') a następnie 'Upload' i wybieramy zdjęcie (wcześniej ściągnięte na dysk twardy z UBI)."
   ]
  },
  {
   "cell_type": "code",
   "execution_count": null,
   "metadata": {
    "colab": {
     "base_uri": "https://localhost:8080/",
     "height": 529
    },
    "id": "OfYoPimSjPaX",
    "outputId": "ac968285-4965-4233-f6c3-1efe56162dbe"
   },
   "outputs": [],
   "source": [
    "# Wczytanie obrazu pierwotnego\n",
    "img = cv2.imread('lena_gray.bmp', cv2.IMREAD_GRAYSCALE)\n",
    "\n",
    "#cv2_imshow(img)\n",
    "#plt.figure(figsize=(10,10))\n",
    "plt.imshow(cv2.cvtColor(img, cv2.COLOR_BGR2RGB))"
   ]
  },
  {
   "cell_type": "markdown",
   "metadata": {
    "id": "MyLze_e9LPM5"
   },
   "source": [
    "## 1. a) blur"
   ]
  },
  {
   "cell_type": "code",
   "execution_count": null,
   "metadata": {
    "colab": {
     "base_uri": "https://localhost:8080/",
     "height": 529
    },
    "id": "TanGLU-RmSvG",
    "outputId": "c7fcdfe9-b4e4-40fb-bccf-cf99eda1da62"
   },
   "outputs": [],
   "source": [
    "# ustawienie rozmiaru maski - okna przekształcenia (kernel) \n",
    "kernel_size = (5,5)\n",
    "# standardowe wygładzanie liniowe funkcją blur z biblioteki OpenCV przy użyciu powyższego rozmiaru maski\n",
    "blured_img = cv2.blur(img,kernel_size)\n",
    "\n",
    "#cv2_imshow(blured_img)\n",
    "#plt.figure(figsize=(10,10))\n",
    "plt.imshow(cv2.cvtColor(blured_img, cv2.COLOR_BGR2RGB))"
   ]
  },
  {
   "cell_type": "markdown",
   "metadata": {
    "id": "5KZ1H6iAIeix"
   },
   "source": [
    "Funkcja blur używa maski przekształcenia w postaci:\n",
    "\n",
    "![alt text](https://github.com/knave88/APO/raw/main/opencv_blur.png)\n",
    "\n",
    "czyli tzw. normalized box filter.\n",
    "Dla przypomnienia im większe okno tym większe rozmycie."
   ]
  },
  {
   "cell_type": "code",
   "execution_count": null,
   "metadata": {
    "id": "d2Crt1jqOPGD"
   },
   "outputs": [],
   "source": [
    "# funkcja ta może przyjąć jako dodatkowy parametr określenie metody ekstrapolacji wartości brzegowych obrazu\n",
    "blured_img = cv2.blur(img,(5,5), borderType = cv2.BORDER_REPLICATE)\n",
    "\n",
    "# pozostałe opcje do zaimplementowania:\n",
    "# 1.\tpozostawienie wartości pikseli brzegowych bez zmian (cv2.BORDER_ISOLATED), \n",
    "# 2.\tpowielenie wartości pikseli brzegowych przez odbicie lustrzane (cv2.BORDER_REFLECT), \n",
    "# 3.\tpowielenie wartości pikseli brzegowych przez powielenie skrajnego piksela (cv2.BORDER_REPLICATE)"
   ]
  },
  {
   "cell_type": "markdown",
   "metadata": {
    "id": "CbKaaK_aLjDY"
   },
   "source": [
    "## 1. a) gaussianBlur"
   ]
  },
  {
   "cell_type": "markdown",
   "metadata": {
    "id": "sfUYyyLqMEZR"
   },
   "source": [
    "Funkcja gaussianBlur, zgodnie z nazwą, używa filtra gaussowskiego do wygładzenia obrazu.\n",
    "Parametry wejściowe które należy ustawić:\n",
    "\n",
    "* rozmiar filtra\n",
    "* odchylenie standardowe w kierunku X\n",
    "* odchylenie standardowe w kierunku Y (jeśli nie podamy wartości przyjmowana jest wartość z kierunku X)\n",
    "* metoda ekstrapolacji pikseli brzegowych\n",
    "\n",
    "\n"
   ]
  },
  {
   "cell_type": "code",
   "execution_count": null,
   "metadata": {
    "colab": {
     "base_uri": "https://localhost:8080/",
     "height": 529
    },
    "id": "sKmwB_xrGi7R",
    "outputId": "a9256036-6950-4b1b-ea04-737a6bb55ab2"
   },
   "outputs": [],
   "source": [
    "kernel_size = (5,5) # rozmiar filtra\n",
    "sigmaX = 0 # odch. std. w kiernku X; !Uwaga jeśli podamy wartość 0, parametr jest liczony automatycznie na podstawie rozmiaru kernela\n",
    "borderType = cv2.BORDER_REPLICATE # metoda ekstrapolacji wartości brzegowych\n",
    "                                  # alternatywne opcje: BORDER_REPLICATE BORDER_REFLECT BORDER_ISOLATED\n",
    "gaussblured_img = cv2.GaussianBlur(img, kernel_size, sigmaX, borderType) \n",
    "\n",
    "#cv2_imshow(gaussblured_img)\n",
    "#plt.figure(figsize=(10,10))\n",
    "plt.imshow(cv2.cvtColor(gaussblured_img, cv2.COLOR_BGR2RGB))"
   ]
  },
  {
   "cell_type": "markdown",
   "metadata": {
    "id": "I6W6QgZenwVp"
   },
   "source": [
    "## 1. b) Detekcja krawędzi"
   ]
  },
  {
   "cell_type": "markdown",
   "metadata": {
    "id": "IRbPeTfOpO3P"
   },
   "source": [
    "Detekcja krawędz może się odbywać na przykład przy użyciu odpowiediego filtra (maski), np:\n",
    "* Laplacian - oblicza Laplacian obrazu\n",
    "\n",
    "* Sobel - oparator ten obliczany jest w bibliotece OpenCV w jednym kierunku dlatego należy go poiczyć zarówno dla kierunku X jak i Y\n",
    "\n",
    "* Canny - algorytm znajdywania krawędzi opracowany przez J. Canny w 1986 roku\n",
    "\n",
    "Dla tych metod należy podać jako argument wejściowy ddepth/dtype (*Desired depth of the destination image*) czyli format obrazu wyjściowego np. uint8 lub float. Warto skorzystać tu z natywnych formatów OpenCV jak np. *cv2.CV_64F*."
   ]
  },
  {
   "cell_type": "code",
   "execution_count": null,
   "metadata": {
    "colab": {
     "base_uri": "https://localhost:8080/",
     "height": 529
    },
    "id": "DGfpXr36qg-s",
    "outputId": "ff5ce071-ef69-45a8-a980-baf8d4bb2a00"
   },
   "outputs": [],
   "source": [
    "# Laplacian\n",
    "ddepth = cv2.CV_64F # format obrazu wyjściowego\n",
    "ksize = 3 # rozmiar filtra\n",
    "img_laplacian = cv2.Laplacian(img,ddepth, ksize, borderType = cv2.BORDER_REPLICATE)\n",
    "\n",
    "#cv2_imshow(img_laplacian)\n",
    "#plt.figure(figsize=(10,10))\n",
    "plt.imshow(img_laplacian, cmap='gray')"
   ]
  },
  {
   "cell_type": "code",
   "execution_count": null,
   "metadata": {
    "colab": {
     "base_uri": "https://localhost:8080/",
     "height": 529
    },
    "id": "UX-6w4busEIB",
    "outputId": "bfa3ccfe-0f78-4dbe-e9eb-46021954dfdf"
   },
   "outputs": [],
   "source": [
    "# Sobel\n",
    "sobelx = cv2.Sobel(img,cv2.CV_64F,1,0,ksize=5)\n",
    "sobely = cv2.Sobel(img,cv2.CV_64F,0,1,ksize=5) # parametr trzeci i czwarty określają kierunkowość, najpierw X, potem Y\n",
    "\n",
    "frame_sobel = cv2.hconcat((sobelx, sobely))\n",
    "\n",
    "#cv2_imshow(frame_sobel)\n",
    "#plt.figure(figsize=(10,10))\n",
    "plt.imshow(frame_sobel, cmap='gray')\n"
   ]
  },
  {
   "cell_type": "code",
   "execution_count": null,
   "metadata": {
    "colab": {
     "base_uri": "https://localhost:8080/",
     "height": 529
    },
    "id": "EzHxle50sx4w",
    "outputId": "fca4aa3c-b262-4849-8689-2529a2bbbf9b"
   },
   "outputs": [],
   "source": [
    "# Canny\n",
    "# prócz obrazu wejściowego jako argumenty wejściowe podajemy dwa progi, gdzie wartości między tymi progami służą do wyznaczenia pikseli połaczonych następnie w krawędzie\n",
    "threshold1 = 100\n",
    "threshold2 = 200\n",
    "img_canny = cv2.Canny(img,threshold1,threshold2)\n",
    "\n",
    "#cv2_imshow(img_canny)\n",
    "#plt.figure(figsize=(10,10))\n",
    "plt.imshow(cv2.cvtColor(img_canny, cv2.COLOR_BGR2RGB))"
   ]
  },
  {
   "cell_type": "markdown",
   "metadata": {
    "id": "FQzvrcYJtmve"
   },
   "source": [
    "**!Uwaga!**\n",
    "Ustawenia parametru ddepth/dtype ma znaczenie.\n",
    "\n",
    "![alt text](https://github.com/knave88/APO/raw/main/double_edge.jpg)\n",
    "\n",
    "W przypadku algorytmu Sobel'a i ostrych przejść czarne-białe i białe-czarne jeśli ustawimy dtype = cv2.CV_8U czyli uint8 to wykrywamy tylko jedną krawędz. Powód jest prosty. Wykryta kawędź ma wartości dodatnie natomiast pomijana ma wartości ujemne które nie mogą wystąpić w formacie uint8. Dlatego lepiej jest stosować \"większy\" format a nastepnie stosować wartość absolutną aby sprowadzić np. do uint8."
   ]
  },
  {
   "cell_type": "markdown",
   "metadata": {
    "id": "pWdzj77hn8Br"
   },
   "source": [
    "## 1. c) Wyostrzanie liniowe"
   ]
  },
  {
   "cell_type": "markdown",
   "metadata": {
    "id": "xGdjl5iHxxDQ"
   },
   "source": [
    "Wyostrzanie obrazu podobnie jak wygładzanie może być zrealizowane przez zastosowanie filtracji i odpowiedniej maski. Użycie konwolucji w znacznym stopniu ułatwia zadanie. \n",
    "W bibliotece OpenCV filtrację dowolną maską można wykonać przy użyciu funkcji *filter2D*."
   ]
  },
  {
   "cell_type": "code",
   "execution_count": null,
   "metadata": {
    "colab": {
     "base_uri": "https://localhost:8080/",
     "height": 614
    },
    "id": "jMuA16Ywxe4T",
    "outputId": "13246c8d-cca5-4951-fb47-9181d62eb990"
   },
   "outputs": [],
   "source": [
    "# wyostrzanie\n",
    "mask_sharp1 = np.array([[ 0,-1, 0],[-1, 5,-1],[ 0,-1, 0]])\n",
    "mask_sharp2 = np.array([[-1,-1,-1],[-1, 9,-1],[-1,-1,-1]])\n",
    "mask_sharp3 = np.array([[ 1,-2, 1],[-2, 5,-2],[ 1,-2, 1]])\n",
    "\n",
    "mask_sharp = mask_sharp2\n",
    "print('My mask:')\n",
    "print(mask_sharp)\n",
    "print('Result of filtering:')\n",
    "img_sharp = cv2.filter2D(img,cv2.CV_64F, mask_sharp, borderType = cv2.BORDER_REPLICATE)\n",
    "\n",
    "#cv2_imshow(img_sharp)\n",
    "#plt.figure(figsize=(10,10))\n",
    "plt.imshow(img_sharp, cmap='gray')\n"
   ]
  },
  {
   "cell_type": "markdown",
   "metadata": {
    "id": "JU3kwf-yb2aO"
   },
   "source": [
    "## 1. d) Kierunkowa detekcja krawędzi"
   ]
  },
  {
   "cell_type": "markdown",
   "metadata": {
    "id": "gkt9Gn0B0yLy"
   },
   "source": [
    "Operator ten umożliwia wyznaczenie dla każdego piksela obrazu estymaty pochodnej kierunkowej w jednym z 8 kierunków. Przykładowe maski kierunkowe:\n",
    "\n",
    "![alt text](https://github.com/knave88/APO/raw/main/Prewitt.png)"
   ]
  },
  {
   "cell_type": "code",
   "execution_count": null,
   "metadata": {
    "colab": {
     "base_uri": "https://localhost:8080/",
     "height": 614
    },
    "id": "9ea3-76z0ylb",
    "outputId": "43067fce-6cb4-4d6a-907f-aca9880e2766"
   },
   "outputs": [],
   "source": [
    "# Prewitt dla kiernku NE\n",
    "mask_prewittNE = np.array([[0,+1,+1],[-1,0,+1],[-1,-1,0]])\n",
    "print('My mask:')\n",
    "print(mask_prewittNE)\n",
    "print('Result of filtering:')\n",
    "img_prewitt = cv2.filter2D(img,cv2.CV_64F, mask_prewittNE, borderType = cv2.BORDER_REPLICATE)\n",
    "\n",
    "#cv2_imshow(img_prewitt)\n",
    "#plt.figure(figsize=(10,10))\n",
    "plt.imshow(img_prewitt, cmap='gray')"
   ]
  },
  {
   "cell_type": "markdown",
   "metadata": {
    "id": "OtN7bFPvoc8m"
   },
   "source": [
    "## 1. e) Uniwersalna operacja liniowa sąsiedztwa"
   ]
  },
  {
   "cell_type": "markdown",
   "metadata": {
    "id": "dWoAQ83g16nr"
   },
   "source": [
    "Uniwersalna operacja liniowa sąsiedztwa oparta na masce 3x3 o wartościach zadawanych w sposób interakcyjny przez użytkowanika. Należy zadbać o to aby program akceptował jadynie poprawny typ zmiennej oraz sprawdzał czy zadana wartość jest w określonym zakresie."
   ]
  },
  {
   "cell_type": "code",
   "execution_count": null,
   "metadata": {
    "colab": {
     "base_uri": "https://localhost:8080/",
     "height": 113,
     "referenced_widgets": [
      "608df6004ba5486f8c66403c9a04315a",
      "7efd482ac40c44cc9684b687fb179785",
      "596b1194fc31426ab44a3ce81ab55f68",
      "d2eb5f7e875f40e5acd051d972a5b79c",
      "6ac4ab1bb8fa41f18e8928b70b94a6c9",
      "f050673b150e4e60b92bfdbc2df087d8",
      "3dcccc9f5a034016b40f1df428ba6fe0",
      "9cdfb04a72974870b04c151e228b18ab",
      "1080996433b34fb782d419b4def18d7c",
      "019946d270534f6998ca09929987be73",
      "1d1722bdc4e74cd58e4d6d0c808e7f62",
      "ed1b487e49d143149104f06d3a761666",
      "52def6e8116342eaabdd08c15a1c1293",
      "2ce9cb7804434d05af585b001b2cb47f",
      "b66d9953d146401488c50be8d33e9cca",
      "611435c065de463f8152378e85727881",
      "5f96daf229a84ecfb945cdb131ebd29c",
      "893a10e5a8e6467382c1242d883599c0",
      "c6d7e3abfc534b7c951a8053bd65ba8a",
      "941a57aa60fd4083b2c6e7d55ffb2909",
      "e806f4f4cc9042acae0c980b57f68c29",
      "e338fb91b4354535976fdc498b789536",
      "13a6b685cf1946f2999c95cc6dd8d54c",
      "2e74df9527704d4ab10e99696dce9cff",
      "7b1a73be05f44b8883d7ff8c37cc7b08",
      "3ba0661937f3478e8d54b2b3e048dfe1",
      "452f9996b9534bb792c50e433a03cb1b",
      "81581565d4d2420c8e19e940886ce53b",
      "589813a4d4124242a02325ab039974ef"
     ]
    },
    "id": "PltWeZSTuoOv",
    "outputId": "e80be865-88c6-408d-de95-2d2304c6a483"
   },
   "outputs": [],
   "source": [
    "from ipywidgets import GridspecLayout, BoundedIntText, Layout\n",
    "\n",
    "def create_expanded_input(value):\n",
    "    return BoundedIntText(description='', value=1, min=-100, layout=Layout(height='auto', width='auto'))\n",
    "\n",
    "grid = GridspecLayout(3, 3)\n",
    "\n",
    "for i in range(3):\n",
    "    for j in range(3):\n",
    "        grid[i, j] = create_expanded_input(0);\n",
    "grid"
   ]
  },
  {
   "cell_type": "code",
   "execution_count": null,
   "metadata": {
    "colab": {
     "base_uri": "https://localhost:8080/",
     "height": 614
    },
    "id": "0hk_ymMG28Ze",
    "outputId": "d21b8a86-56bd-4550-9766-a124722c2cf5"
   },
   "outputs": [],
   "source": [
    "kernel = np.zeros((3,3))\n",
    "for i in range(3):\n",
    "    for j in range(3):\n",
    "        kernel[i, j] = int(grid[i, j].value)\n",
    "        \n",
    "print('My mask:')\n",
    "kernel=np.int64(kernel)/np.sum(kernel)\n",
    "print(kernel)\n",
    "print('Result of filtering:')\n",
    "img_filtered = cv2.filter2D(img,cv2.CV_64F, kernel, borderType = cv2.BORDER_REPLICATE)\n",
    "\n",
    "#cv2_imshow(img_filtered)\n",
    "#plt.figure(figsize=(10,10))\n",
    "plt.imshow(img_filtered, cmap='gray')\n"
   ]
  },
  {
   "cell_type": "markdown",
   "metadata": {
    "id": "LiuAvOYkeItF"
   },
   "source": [
    "# Filtr medianowy"
   ]
  },
  {
   "cell_type": "markdown",
   "metadata": {
    "id": "re4u-kS4cDdu"
   },
   "source": [
    "Opracja filtracji medianowej również może być w prosty sposób zrealizowana przy użyciu biblioteki OpenCV.  Podobnie jak w przykładach powyżej, argumenty wejściowe, prócz obrazu wejściowego, to rozmiar filtra. \n",
    "**Uwaga!** Należy pamiętać, że rozmiar okna musi mieć nieprzystą wartość całkowitą większą od 1, np.: 3, 5, 7 itd.\n",
    "\n",
    "Ponadto, w obrazach wielokanałowych każdy kanał jest przetwarzany odrębnie."
   ]
  },
  {
   "cell_type": "code",
   "execution_count": null,
   "metadata": {
    "colab": {
     "base_uri": "https://localhost:8080/",
     "height": 529
    },
    "id": "GHtsXYnNbMfQ",
    "outputId": "7035cd94-384e-4c5d-fb90-1f7f51f42332"
   },
   "outputs": [],
   "source": [
    "medianBlured_img = cv2.medianBlur(img, 11) \n",
    "\n",
    "#cv2_imshow(medianBlured_img)\n",
    "#plt.figure(figsize=(10,10))\n",
    "plt.imshow(cv2.cvtColor(medianBlured_img, cv2.COLOR_BGR2RGB))"
   ]
  },
  {
   "cell_type": "markdown",
   "metadata": {
    "id": "jSLv-QH6ecvl"
   },
   "source": [
    "# Operacje jednopunktowe dwuargumentowe"
   ]
  },
  {
   "cell_type": "markdown",
   "metadata": {
    "id": "eoz4P7igfiCs"
   },
   "source": [
    "**Uwaga!** przy operacjach jednopunktowych dwuargumentowych należy zadbać aby oba obrazy miały ten sam rozmiar. Jeśli występuje niezgodność można zastosować jedną z dwóch opcji:\n",
    "* resize = przeskalowanie\n",
    "* padding = dopełnienie (np. wartością zero)\n",
    "\n",
    "---\n",
    "\n",
    "Aby program zadziałał należy dodać plik 'testing.bmp' (dostępny na UBI) tak samo jak obraz Leny."
   ]
  },
  {
   "cell_type": "code",
   "execution_count": null,
   "metadata": {
    "colab": {
     "base_uri": "https://localhost:8080/",
     "height": 214
    },
    "id": "Ly3L9MWHfC55",
    "outputId": "9e169465-9204-4638-e62f-e69f0da99f36"
   },
   "outputs": [],
   "source": [
    "# wczytanie drugiego obrazu\n",
    "img2 = cv2.imread('testing.bmp', cv2.IMREAD_GRAYSCALE)\n",
    "# zmiana rozmiaru (dopasowanie) do obrazu Leny\n",
    "img2 = cv2.resize(img2, img.shape) \n",
    "\n",
    "#cv2_imshow(img2)\n",
    "#plt.figure(figsize=(10,10))\n",
    "plt.imshow(cv2.cvtColor(img2, cv2.COLOR_BGR2RGB))"
   ]
  },
  {
   "cell_type": "markdown",
   "metadata": {
    "id": "7ovA_lNyhd99"
   },
   "source": [
    "### 3.1 Dodawanie"
   ]
  },
  {
   "cell_type": "code",
   "execution_count": null,
   "metadata": {
    "id": "KIzSl9_Qb94v"
   },
   "outputs": [],
   "source": [
    "# dodawanie obrazów realizowane w bibliotece OpenCV\n",
    "img_add = cv2.add(img, img2)\n",
    "\n",
    "#cv2_imshow(img_add)\n",
    "#plt.figure(figsize=(10,10))\n",
    "plt.imshow(cv2.cvtColor(img_add, cv2.COLOR_BGR2RGB))"
   ]
  },
  {
   "cell_type": "markdown",
   "metadata": {
    "id": "nBG8ISuiht49"
   },
   "source": [
    "### 3.2 Mieszanie (blending)"
   ]
  },
  {
   "cell_type": "markdown",
   "metadata": {
    "id": "vSfyEKP2iUkS"
   },
   "source": [
    "\"Mieszanie\" pozwala na doddanie do siebie obrazów z zadaną wagą dla każdego z nich. Pozwala to na uzyskanie efektu prześwitywania lub tworzenia tzw. 'overlay'. Dodatkowo pozwala również na dodanie zadanej wartości do każdej sumy (parametr gamma). Relizowane jest zgodnie z poniższym wzorem:\n",
    "\n",
    "![alt text](https://github.com/knave88/APO/raw/main/addWeighted.png)\n",
    "\n",
    "\n",
    "\n",
    "gdzie:\n",
    "* alpha określa udział obrazu pierwszego\n",
    "* beta określa udział obrazu drugiego\n",
    "* gamma określa skalar dodany do każdego sumowanego piksela (wartość dodatnia lub ujemna)\n"
   ]
  },
  {
   "cell_type": "code",
   "execution_count": null,
   "metadata": {
    "id": "9GPRoeLwiGqO"
   },
   "outputs": [],
   "source": [
    "# przykład zastosowania\n",
    "img_blend = cv2.addWeighted(img,0.7,img2,0.5,-100)\n",
    "\n",
    "#cv2_imshow(img_blend)\n",
    "#plt.figure(figsize=(10,10))\n",
    "plt.imshow(cv2.cvtColor(img_blend, cv2.COLOR_BGR2RGB))"
   ]
  },
  {
   "cell_type": "markdown",
   "metadata": {
    "id": "izlzKg4LhtuC"
   },
   "source": [
    "### 3.3 Operacje logiczne"
   ]
  },
  {
   "cell_type": "code",
   "execution_count": null,
   "metadata": {
    "id": "PMMo688BfJQq"
   },
   "outputs": [],
   "source": [
    "# negacja = bitwise NOT\n",
    "img2_inv = cv2.bitwise_not(img2)\n",
    "\n",
    "frame3 = cv2.hconcat((img2, img2_inv))\n",
    "#cv2_imshow(frame3)\n",
    "#plt.figure(figsize=(10,10))\n",
    "plt.imshow(cv2.cvtColor(frame3, cv2.COLOR_BGR2RGB))"
   ]
  },
  {
   "cell_type": "code",
   "execution_count": null,
   "metadata": {
    "id": "UrgiCirsmvF8"
   },
   "outputs": [],
   "source": [
    "# AND\n",
    "img_and = cv2.bitwise_and(img, img2)\n",
    "#cv2_imshow(img_and)\n",
    "#plt.figure(figsize=(10,10))\n",
    "plt.imshow(cv2.cvtColor(img_and, cv2.COLOR_BGR2RGB))"
   ]
  },
  {
   "cell_type": "code",
   "execution_count": null,
   "metadata": {
    "id": "-c88aX8smgoL"
   },
   "outputs": [],
   "source": [
    "# OR\n",
    "img_or = cv2.bitwise_or(img, img2)\n",
    "#cv2_imshow(img_or)\n",
    "#plt.figure(figsize=(10,10))\n",
    "plt.imshow(cv2.cvtColor(img_or, cv2.COLOR_BGR2RGB))"
   ]
  },
  {
   "cell_type": "code",
   "execution_count": null,
   "metadata": {
    "id": "UTLcLSrknf0i"
   },
   "outputs": [],
   "source": [
    "# XOR\n",
    "img_xor = cv2.bitwise_xor(img, img2)\n",
    "#cv2_imshow(img_xor)\n",
    "#plt.figure(figsize=(10,10))\n",
    "plt.imshow(cv2.cvtColor(img_xor, cv2.COLOR_BGR2RGB))"
   ]
  },
  {
   "cell_type": "markdown",
   "metadata": {
    "id": "5DMO9zRDnjpK"
   },
   "source": [
    "# Operacje sąsiedztwa – filtracja dwu i jedno etapowa"
   ]
  },
  {
   "cell_type": "markdown",
   "metadata": {},
   "source": [
    "Przyjmijmy sytuację w której mamy jedną maskę filtracji *mF* o rozmiarze 3x3 oraz drugą maskę filtracji *mG* o rozmiarze 3x3. Obraz wejściowy w naszych założeniach możemy uznać za dwuwymiarowy sygnał wejściowy *x*. Wynik kolejnej filtracji (kaskadowej) dwoma maskami możemy zapisać w ten sposób:\n",
    "\n",
    "`y=mG∗(mF∗x)`\n",
    "\n",
    "Ważną cechą (i wiele ułatwiającą w tym wypadku) konwolucji jest jej łączność. Dzięki temu powyższy zapis można przedstawić również tak:\n",
    "\n",
    "`y=g∗(mF∗x)=(mG∗mF)∗x=mH∗x`\n",
    "\n",
    "Gdzie: `mH = mG*mF = mF*mG`\n",
    "\n",
    "Z tego wynika, że możliwe jest uzyskanie jednej maski filtracji, dającej ten sam efekt, przez konwolucję dwóch masek podstawowych.\n",
    "\n"
   ]
  },
  {
   "cell_type": "code",
   "execution_count": null,
   "metadata": {},
   "outputs": [],
   "source": [
    "# utworzenie pierwszej maski 3x3 - wygładzenie\n",
    "mF = np.ones((3,3))\n",
    "mF"
   ]
  },
  {
   "cell_type": "code",
   "execution_count": null,
   "metadata": {},
   "outputs": [],
   "source": [
    "# utworzenie drugiej maski 3x3 - wyostrzenie\n",
    "mG = np.array([[1, -2, 1], \n",
    "               [-2, 4, -2], \n",
    "               [1, -2, 1]])\n",
    "mG"
   ]
  },
  {
   "cell_type": "code",
   "execution_count": null,
   "metadata": {},
   "outputs": [],
   "source": [
    "# konstrukcja maski w oparciu o dwie powyższe maski 3x3 \n",
    "# wykorzystanie konwolucji do wygenerowania maski 5x5\n",
    "from scipy.signal import convolve2d as conv2 # funkcja konwolucji dwuwymiraowej\n",
    "mH = conv2(mF, mG, mode='full') # mode full zapewnia odpowieni rozmiar maski\n",
    "mH"
   ]
  },
  {
   "cell_type": "code",
   "execution_count": null,
   "metadata": {},
   "outputs": [],
   "source": [
    "# wykonanie dwu etapowej filtracji z maskami 3x3 (jak w Lab3)\n",
    "res_step1 = cv2.filter2D(img,cv2.CV_64F, mF, borderType = cv2.BORDER_REPLICATE)\n",
    "res_step2 = cv2.filter2D(res_step1,cv2.CV_64F, mG, borderType = cv2.BORDER_REPLICATE)\n",
    "#cv2_imshow(res_step22)\n",
    "\n",
    "# wykonanie jednoetapowej filtracji z maską 5x5\n",
    "res_5x5 = cv2.filter2D(img,cv2.CV_64F, mH, borderType = cv2.BORDER_REPLICATE)\n",
    "#cv2_imshow(res_5x5)\n",
    "\n",
    "# wizualne porównanie wyników\n",
    "frame = cv2.hconcat((np.uint8(res_step2), np.uint8(res_5x5)))\n",
    "#cv2_imshow(frame)\n",
    "#plt.figure(figsize=(10,10))\n",
    "plt.imshow(frame)"
   ]
  },
  {
   "cell_type": "markdown",
   "metadata": {},
   "source": [
    "W przedstawiony powyżej sposób możemy przekształcić dowolne dwie maski w jedną. Należy jednak pamiętać o tym że maska wynikowa ma inny rozmiar niż maski bazowe."
   ]
  },
  {
   "cell_type": "code",
   "execution_count": null,
   "metadata": {},
   "outputs": [],
   "source": []
  }
 ],
 "metadata": {
  "colab": {
   "collapsed_sections": [],
   "name": "APO_Lab3_OpSasiedztwa.ipynb",
   "provenance": [],
   "toc_visible": true
  },
  "kernelspec": {
   "display_name": "Python 3 (ipykernel)",
   "language": "python",
   "name": "python3"
  },
  "language_info": {
   "codemirror_mode": {
    "name": "ipython",
    "version": 3
   },
   "file_extension": ".py",
   "mimetype": "text/x-python",
   "name": "python",
   "nbconvert_exporter": "python",
   "pygments_lexer": "ipython3",
   "version": "3.9.12"
  },
  "varInspector": {
   "cols": {
    "lenName": 16,
    "lenType": 16,
    "lenVar": 40
   },
   "kernels_config": {
    "python": {
     "delete_cmd_postfix": "",
     "delete_cmd_prefix": "del ",
     "library": "var_list.py",
     "varRefreshCmd": "print(var_dic_list())"
    },
    "r": {
     "delete_cmd_postfix": ") ",
     "delete_cmd_prefix": "rm(",
     "library": "var_list.r",
     "varRefreshCmd": "cat(var_dic_list()) "
    }
   },
   "types_to_exclude": [
    "module",
    "function",
    "builtin_function_or_method",
    "instance",
    "_Feature"
   ],
   "window_display": false
  },
  "widgets": {
   "application/vnd.jupyter.widget-state+json": {
    "019946d270534f6998ca09929987be73": {
     "model_module": "@jupyter-widgets/controls",
     "model_name": "BoundedIntTextModel",
     "state": {
      "_dom_classes": [],
      "_model_module": "@jupyter-widgets/controls",
      "_model_module_version": "1.5.0",
      "_model_name": "BoundedIntTextModel",
      "_view_count": null,
      "_view_module": "@jupyter-widgets/controls",
      "_view_module_version": "1.5.0",
      "_view_name": "IntTextView",
      "continuous_update": false,
      "description": "",
      "description_tooltip": null,
      "disabled": false,
      "layout": "IPY_MODEL_452f9996b9534bb792c50e433a03cb1b",
      "max": 100,
      "min": -100,
      "step": 1,
      "style": "IPY_MODEL_3ba0661937f3478e8d54b2b3e048dfe1",
      "value": 1
     }
    },
    "1080996433b34fb782d419b4def18d7c": {
     "model_module": "@jupyter-widgets/controls",
     "model_name": "BoundedIntTextModel",
     "state": {
      "_dom_classes": [],
      "_model_module": "@jupyter-widgets/controls",
      "_model_module_version": "1.5.0",
      "_model_name": "BoundedIntTextModel",
      "_view_count": null,
      "_view_module": "@jupyter-widgets/controls",
      "_view_module_version": "1.5.0",
      "_view_name": "IntTextView",
      "continuous_update": false,
      "description": "",
      "description_tooltip": null,
      "disabled": false,
      "layout": "IPY_MODEL_7b1a73be05f44b8883d7ff8c37cc7b08",
      "max": 100,
      "min": -100,
      "step": 1,
      "style": "IPY_MODEL_2e74df9527704d4ab10e99696dce9cff",
      "value": 1
     }
    },
    "13a6b685cf1946f2999c95cc6dd8d54c": {
     "model_module": "@jupyter-widgets/base",
     "model_name": "LayoutModel",
     "state": {
      "_model_module": "@jupyter-widgets/base",
      "_model_module_version": "1.2.0",
      "_model_name": "LayoutModel",
      "_view_count": null,
      "_view_module": "@jupyter-widgets/base",
      "_view_module_version": "1.2.0",
      "_view_name": "LayoutView",
      "align_content": null,
      "align_items": null,
      "align_self": null,
      "border": null,
      "bottom": null,
      "display": null,
      "flex": null,
      "flex_flow": null,
      "grid_area": "widget006",
      "grid_auto_columns": null,
      "grid_auto_flow": null,
      "grid_auto_rows": null,
      "grid_column": null,
      "grid_gap": null,
      "grid_row": null,
      "grid_template_areas": null,
      "grid_template_columns": null,
      "grid_template_rows": null,
      "height": "auto",
      "justify_content": null,
      "justify_items": null,
      "left": null,
      "margin": null,
      "max_height": null,
      "max_width": null,
      "min_height": null,
      "min_width": null,
      "object_fit": null,
      "object_position": null,
      "order": null,
      "overflow": null,
      "overflow_x": null,
      "overflow_y": null,
      "padding": null,
      "right": null,
      "top": null,
      "visibility": null,
      "width": "auto"
     }
    },
    "1d1722bdc4e74cd58e4d6d0c808e7f62": {
     "model_module": "@jupyter-widgets/controls",
     "model_name": "BoundedIntTextModel",
     "state": {
      "_dom_classes": [],
      "_model_module": "@jupyter-widgets/controls",
      "_model_module_version": "1.5.0",
      "_model_name": "BoundedIntTextModel",
      "_view_count": null,
      "_view_module": "@jupyter-widgets/controls",
      "_view_module_version": "1.5.0",
      "_view_name": "IntTextView",
      "continuous_update": false,
      "description": "",
      "description_tooltip": null,
      "disabled": false,
      "layout": "IPY_MODEL_589813a4d4124242a02325ab039974ef",
      "max": 100,
      "min": -100,
      "step": 1,
      "style": "IPY_MODEL_81581565d4d2420c8e19e940886ce53b",
      "value": 1
     }
    },
    "2ce9cb7804434d05af585b001b2cb47f": {
     "model_module": "@jupyter-widgets/controls",
     "model_name": "DescriptionStyleModel",
     "state": {
      "_model_module": "@jupyter-widgets/controls",
      "_model_module_version": "1.5.0",
      "_model_name": "DescriptionStyleModel",
      "_view_count": null,
      "_view_module": "@jupyter-widgets/base",
      "_view_module_version": "1.2.0",
      "_view_name": "StyleView",
      "description_width": ""
     }
    },
    "2e74df9527704d4ab10e99696dce9cff": {
     "model_module": "@jupyter-widgets/controls",
     "model_name": "DescriptionStyleModel",
     "state": {
      "_model_module": "@jupyter-widgets/controls",
      "_model_module_version": "1.5.0",
      "_model_name": "DescriptionStyleModel",
      "_view_count": null,
      "_view_module": "@jupyter-widgets/base",
      "_view_module_version": "1.2.0",
      "_view_name": "StyleView",
      "description_width": ""
     }
    },
    "3ba0661937f3478e8d54b2b3e048dfe1": {
     "model_module": "@jupyter-widgets/controls",
     "model_name": "DescriptionStyleModel",
     "state": {
      "_model_module": "@jupyter-widgets/controls",
      "_model_module_version": "1.5.0",
      "_model_name": "DescriptionStyleModel",
      "_view_count": null,
      "_view_module": "@jupyter-widgets/base",
      "_view_module_version": "1.2.0",
      "_view_name": "StyleView",
      "description_width": ""
     }
    },
    "3dcccc9f5a034016b40f1df428ba6fe0": {
     "model_module": "@jupyter-widgets/controls",
     "model_name": "BoundedIntTextModel",
     "state": {
      "_dom_classes": [],
      "_model_module": "@jupyter-widgets/controls",
      "_model_module_version": "1.5.0",
      "_model_name": "BoundedIntTextModel",
      "_view_count": null,
      "_view_module": "@jupyter-widgets/controls",
      "_view_module_version": "1.5.0",
      "_view_name": "IntTextView",
      "continuous_update": false,
      "description": "",
      "description_tooltip": null,
      "disabled": false,
      "layout": "IPY_MODEL_e806f4f4cc9042acae0c980b57f68c29",
      "max": 100,
      "min": -100,
      "step": 1,
      "style": "IPY_MODEL_941a57aa60fd4083b2c6e7d55ffb2909",
      "value": 1
     }
    },
    "452f9996b9534bb792c50e433a03cb1b": {
     "model_module": "@jupyter-widgets/base",
     "model_name": "LayoutModel",
     "state": {
      "_model_module": "@jupyter-widgets/base",
      "_model_module_version": "1.2.0",
      "_model_name": "LayoutModel",
      "_view_count": null,
      "_view_module": "@jupyter-widgets/base",
      "_view_module_version": "1.2.0",
      "_view_name": "LayoutView",
      "align_content": null,
      "align_items": null,
      "align_self": null,
      "border": null,
      "bottom": null,
      "display": null,
      "flex": null,
      "flex_flow": null,
      "grid_area": "widget008",
      "grid_auto_columns": null,
      "grid_auto_flow": null,
      "grid_auto_rows": null,
      "grid_column": null,
      "grid_gap": null,
      "grid_row": null,
      "grid_template_areas": null,
      "grid_template_columns": null,
      "grid_template_rows": null,
      "height": "auto",
      "justify_content": null,
      "justify_items": null,
      "left": null,
      "margin": null,
      "max_height": null,
      "max_width": null,
      "min_height": null,
      "min_width": null,
      "object_fit": null,
      "object_position": null,
      "order": null,
      "overflow": null,
      "overflow_x": null,
      "overflow_y": null,
      "padding": null,
      "right": null,
      "top": null,
      "visibility": null,
      "width": "auto"
     }
    },
    "52def6e8116342eaabdd08c15a1c1293": {
     "model_module": "@jupyter-widgets/base",
     "model_name": "LayoutModel",
     "state": {
      "_model_module": "@jupyter-widgets/base",
      "_model_module_version": "1.2.0",
      "_model_name": "LayoutModel",
      "_view_count": null,
      "_view_module": "@jupyter-widgets/base",
      "_view_module_version": "1.2.0",
      "_view_name": "LayoutView",
      "align_content": null,
      "align_items": null,
      "align_self": null,
      "border": null,
      "bottom": null,
      "display": null,
      "flex": null,
      "flex_flow": null,
      "grid_area": "widget001",
      "grid_auto_columns": null,
      "grid_auto_flow": null,
      "grid_auto_rows": null,
      "grid_column": null,
      "grid_gap": null,
      "grid_row": null,
      "grid_template_areas": null,
      "grid_template_columns": null,
      "grid_template_rows": null,
      "height": "auto",
      "justify_content": null,
      "justify_items": null,
      "left": null,
      "margin": null,
      "max_height": null,
      "max_width": null,
      "min_height": null,
      "min_width": null,
      "object_fit": null,
      "object_position": null,
      "order": null,
      "overflow": null,
      "overflow_x": null,
      "overflow_y": null,
      "padding": null,
      "right": null,
      "top": null,
      "visibility": null,
      "width": "auto"
     }
    },
    "589813a4d4124242a02325ab039974ef": {
     "model_module": "@jupyter-widgets/base",
     "model_name": "LayoutModel",
     "state": {
      "_model_module": "@jupyter-widgets/base",
      "_model_module_version": "1.2.0",
      "_model_name": "LayoutModel",
      "_view_count": null,
      "_view_module": "@jupyter-widgets/base",
      "_view_module_version": "1.2.0",
      "_view_name": "LayoutView",
      "align_content": null,
      "align_items": null,
      "align_self": null,
      "border": null,
      "bottom": null,
      "display": null,
      "flex": null,
      "flex_flow": null,
      "grid_area": "widget009",
      "grid_auto_columns": null,
      "grid_auto_flow": null,
      "grid_auto_rows": null,
      "grid_column": null,
      "grid_gap": null,
      "grid_row": null,
      "grid_template_areas": null,
      "grid_template_columns": null,
      "grid_template_rows": null,
      "height": "auto",
      "justify_content": null,
      "justify_items": null,
      "left": null,
      "margin": null,
      "max_height": null,
      "max_width": null,
      "min_height": null,
      "min_width": null,
      "object_fit": null,
      "object_position": null,
      "order": null,
      "overflow": null,
      "overflow_x": null,
      "overflow_y": null,
      "padding": null,
      "right": null,
      "top": null,
      "visibility": null,
      "width": "auto"
     }
    },
    "596b1194fc31426ab44a3ce81ab55f68": {
     "model_module": "@jupyter-widgets/controls",
     "model_name": "BoundedIntTextModel",
     "state": {
      "_dom_classes": [],
      "_model_module": "@jupyter-widgets/controls",
      "_model_module_version": "1.5.0",
      "_model_name": "BoundedIntTextModel",
      "_view_count": null,
      "_view_module": "@jupyter-widgets/controls",
      "_view_module_version": "1.5.0",
      "_view_name": "IntTextView",
      "continuous_update": false,
      "description": "",
      "description_tooltip": null,
      "disabled": false,
      "layout": "IPY_MODEL_52def6e8116342eaabdd08c15a1c1293",
      "max": 100,
      "min": -100,
      "step": 1,
      "style": "IPY_MODEL_ed1b487e49d143149104f06d3a761666",
      "value": 1
     }
    },
    "5f96daf229a84ecfb945cdb131ebd29c": {
     "model_module": "@jupyter-widgets/base",
     "model_name": "LayoutModel",
     "state": {
      "_model_module": "@jupyter-widgets/base",
      "_model_module_version": "1.2.0",
      "_model_name": "LayoutModel",
      "_view_count": null,
      "_view_module": "@jupyter-widgets/base",
      "_view_module_version": "1.2.0",
      "_view_name": "LayoutView",
      "align_content": null,
      "align_items": null,
      "align_self": null,
      "border": null,
      "bottom": null,
      "display": null,
      "flex": null,
      "flex_flow": null,
      "grid_area": "widget003",
      "grid_auto_columns": null,
      "grid_auto_flow": null,
      "grid_auto_rows": null,
      "grid_column": null,
      "grid_gap": null,
      "grid_row": null,
      "grid_template_areas": null,
      "grid_template_columns": null,
      "grid_template_rows": null,
      "height": "auto",
      "justify_content": null,
      "justify_items": null,
      "left": null,
      "margin": null,
      "max_height": null,
      "max_width": null,
      "min_height": null,
      "min_width": null,
      "object_fit": null,
      "object_position": null,
      "order": null,
      "overflow": null,
      "overflow_x": null,
      "overflow_y": null,
      "padding": null,
      "right": null,
      "top": null,
      "visibility": null,
      "width": "auto"
     }
    },
    "608df6004ba5486f8c66403c9a04315a": {
     "model_module": "@jupyter-widgets/controls",
     "model_name": "GridBoxModel",
     "state": {
      "_dom_classes": [],
      "_model_module": "@jupyter-widgets/controls",
      "_model_module_version": "1.5.0",
      "_model_name": "GridBoxModel",
      "_view_count": null,
      "_view_module": "@jupyter-widgets/controls",
      "_view_module_version": "1.5.0",
      "_view_name": "GridBoxView",
      "box_style": "",
      "children": [
       "IPY_MODEL_596b1194fc31426ab44a3ce81ab55f68",
       "IPY_MODEL_d2eb5f7e875f40e5acd051d972a5b79c",
       "IPY_MODEL_6ac4ab1bb8fa41f18e8928b70b94a6c9",
       "IPY_MODEL_f050673b150e4e60b92bfdbc2df087d8",
       "IPY_MODEL_3dcccc9f5a034016b40f1df428ba6fe0",
       "IPY_MODEL_9cdfb04a72974870b04c151e228b18ab",
       "IPY_MODEL_1080996433b34fb782d419b4def18d7c",
       "IPY_MODEL_019946d270534f6998ca09929987be73",
       "IPY_MODEL_1d1722bdc4e74cd58e4d6d0c808e7f62"
      ],
      "layout": "IPY_MODEL_7efd482ac40c44cc9684b687fb179785"
     }
    },
    "611435c065de463f8152378e85727881": {
     "model_module": "@jupyter-widgets/controls",
     "model_name": "DescriptionStyleModel",
     "state": {
      "_model_module": "@jupyter-widgets/controls",
      "_model_module_version": "1.5.0",
      "_model_name": "DescriptionStyleModel",
      "_view_count": null,
      "_view_module": "@jupyter-widgets/base",
      "_view_module_version": "1.2.0",
      "_view_name": "StyleView",
      "description_width": ""
     }
    },
    "6ac4ab1bb8fa41f18e8928b70b94a6c9": {
     "model_module": "@jupyter-widgets/controls",
     "model_name": "BoundedIntTextModel",
     "state": {
      "_dom_classes": [],
      "_model_module": "@jupyter-widgets/controls",
      "_model_module_version": "1.5.0",
      "_model_name": "BoundedIntTextModel",
      "_view_count": null,
      "_view_module": "@jupyter-widgets/controls",
      "_view_module_version": "1.5.0",
      "_view_name": "IntTextView",
      "continuous_update": false,
      "description": "",
      "description_tooltip": null,
      "disabled": false,
      "layout": "IPY_MODEL_5f96daf229a84ecfb945cdb131ebd29c",
      "max": 100,
      "min": -100,
      "step": 1,
      "style": "IPY_MODEL_611435c065de463f8152378e85727881",
      "value": 1
     }
    },
    "7b1a73be05f44b8883d7ff8c37cc7b08": {
     "model_module": "@jupyter-widgets/base",
     "model_name": "LayoutModel",
     "state": {
      "_model_module": "@jupyter-widgets/base",
      "_model_module_version": "1.2.0",
      "_model_name": "LayoutModel",
      "_view_count": null,
      "_view_module": "@jupyter-widgets/base",
      "_view_module_version": "1.2.0",
      "_view_name": "LayoutView",
      "align_content": null,
      "align_items": null,
      "align_self": null,
      "border": null,
      "bottom": null,
      "display": null,
      "flex": null,
      "flex_flow": null,
      "grid_area": "widget007",
      "grid_auto_columns": null,
      "grid_auto_flow": null,
      "grid_auto_rows": null,
      "grid_column": null,
      "grid_gap": null,
      "grid_row": null,
      "grid_template_areas": null,
      "grid_template_columns": null,
      "grid_template_rows": null,
      "height": "auto",
      "justify_content": null,
      "justify_items": null,
      "left": null,
      "margin": null,
      "max_height": null,
      "max_width": null,
      "min_height": null,
      "min_width": null,
      "object_fit": null,
      "object_position": null,
      "order": null,
      "overflow": null,
      "overflow_x": null,
      "overflow_y": null,
      "padding": null,
      "right": null,
      "top": null,
      "visibility": null,
      "width": "auto"
     }
    },
    "7efd482ac40c44cc9684b687fb179785": {
     "model_module": "@jupyter-widgets/base",
     "model_name": "LayoutModel",
     "state": {
      "_model_module": "@jupyter-widgets/base",
      "_model_module_version": "1.2.0",
      "_model_name": "LayoutModel",
      "_view_count": null,
      "_view_module": "@jupyter-widgets/base",
      "_view_module_version": "1.2.0",
      "_view_name": "LayoutView",
      "align_content": null,
      "align_items": null,
      "align_self": null,
      "border": null,
      "bottom": null,
      "display": null,
      "flex": null,
      "flex_flow": null,
      "grid_area": null,
      "grid_auto_columns": null,
      "grid_auto_flow": null,
      "grid_auto_rows": null,
      "grid_column": null,
      "grid_gap": null,
      "grid_row": null,
      "grid_template_areas": "\"widget001 widget002 widget003\"\n\"widget004 widget005 widget006\"\n\"widget007 widget008 widget009\"",
      "grid_template_columns": "repeat(3, 1fr)",
      "grid_template_rows": "repeat(3, 1fr)",
      "height": null,
      "justify_content": null,
      "justify_items": null,
      "left": null,
      "margin": null,
      "max_height": null,
      "max_width": null,
      "min_height": null,
      "min_width": null,
      "object_fit": null,
      "object_position": null,
      "order": null,
      "overflow": null,
      "overflow_x": null,
      "overflow_y": null,
      "padding": null,
      "right": null,
      "top": null,
      "visibility": null,
      "width": null
     }
    },
    "81581565d4d2420c8e19e940886ce53b": {
     "model_module": "@jupyter-widgets/controls",
     "model_name": "DescriptionStyleModel",
     "state": {
      "_model_module": "@jupyter-widgets/controls",
      "_model_module_version": "1.5.0",
      "_model_name": "DescriptionStyleModel",
      "_view_count": null,
      "_view_module": "@jupyter-widgets/base",
      "_view_module_version": "1.2.0",
      "_view_name": "StyleView",
      "description_width": ""
     }
    },
    "893a10e5a8e6467382c1242d883599c0": {
     "model_module": "@jupyter-widgets/controls",
     "model_name": "DescriptionStyleModel",
     "state": {
      "_model_module": "@jupyter-widgets/controls",
      "_model_module_version": "1.5.0",
      "_model_name": "DescriptionStyleModel",
      "_view_count": null,
      "_view_module": "@jupyter-widgets/base",
      "_view_module_version": "1.2.0",
      "_view_name": "StyleView",
      "description_width": ""
     }
    },
    "941a57aa60fd4083b2c6e7d55ffb2909": {
     "model_module": "@jupyter-widgets/controls",
     "model_name": "DescriptionStyleModel",
     "state": {
      "_model_module": "@jupyter-widgets/controls",
      "_model_module_version": "1.5.0",
      "_model_name": "DescriptionStyleModel",
      "_view_count": null,
      "_view_module": "@jupyter-widgets/base",
      "_view_module_version": "1.2.0",
      "_view_name": "StyleView",
      "description_width": ""
     }
    },
    "9cdfb04a72974870b04c151e228b18ab": {
     "model_module": "@jupyter-widgets/controls",
     "model_name": "BoundedIntTextModel",
     "state": {
      "_dom_classes": [],
      "_model_module": "@jupyter-widgets/controls",
      "_model_module_version": "1.5.0",
      "_model_name": "BoundedIntTextModel",
      "_view_count": null,
      "_view_module": "@jupyter-widgets/controls",
      "_view_module_version": "1.5.0",
      "_view_name": "IntTextView",
      "continuous_update": false,
      "description": "",
      "description_tooltip": null,
      "disabled": false,
      "layout": "IPY_MODEL_13a6b685cf1946f2999c95cc6dd8d54c",
      "max": 100,
      "min": -100,
      "step": 1,
      "style": "IPY_MODEL_e338fb91b4354535976fdc498b789536",
      "value": 1
     }
    },
    "b66d9953d146401488c50be8d33e9cca": {
     "model_module": "@jupyter-widgets/base",
     "model_name": "LayoutModel",
     "state": {
      "_model_module": "@jupyter-widgets/base",
      "_model_module_version": "1.2.0",
      "_model_name": "LayoutModel",
      "_view_count": null,
      "_view_module": "@jupyter-widgets/base",
      "_view_module_version": "1.2.0",
      "_view_name": "LayoutView",
      "align_content": null,
      "align_items": null,
      "align_self": null,
      "border": null,
      "bottom": null,
      "display": null,
      "flex": null,
      "flex_flow": null,
      "grid_area": "widget002",
      "grid_auto_columns": null,
      "grid_auto_flow": null,
      "grid_auto_rows": null,
      "grid_column": null,
      "grid_gap": null,
      "grid_row": null,
      "grid_template_areas": null,
      "grid_template_columns": null,
      "grid_template_rows": null,
      "height": "auto",
      "justify_content": null,
      "justify_items": null,
      "left": null,
      "margin": null,
      "max_height": null,
      "max_width": null,
      "min_height": null,
      "min_width": null,
      "object_fit": null,
      "object_position": null,
      "order": null,
      "overflow": null,
      "overflow_x": null,
      "overflow_y": null,
      "padding": null,
      "right": null,
      "top": null,
      "visibility": null,
      "width": "auto"
     }
    },
    "c6d7e3abfc534b7c951a8053bd65ba8a": {
     "model_module": "@jupyter-widgets/base",
     "model_name": "LayoutModel",
     "state": {
      "_model_module": "@jupyter-widgets/base",
      "_model_module_version": "1.2.0",
      "_model_name": "LayoutModel",
      "_view_count": null,
      "_view_module": "@jupyter-widgets/base",
      "_view_module_version": "1.2.0",
      "_view_name": "LayoutView",
      "align_content": null,
      "align_items": null,
      "align_self": null,
      "border": null,
      "bottom": null,
      "display": null,
      "flex": null,
      "flex_flow": null,
      "grid_area": "widget004",
      "grid_auto_columns": null,
      "grid_auto_flow": null,
      "grid_auto_rows": null,
      "grid_column": null,
      "grid_gap": null,
      "grid_row": null,
      "grid_template_areas": null,
      "grid_template_columns": null,
      "grid_template_rows": null,
      "height": "auto",
      "justify_content": null,
      "justify_items": null,
      "left": null,
      "margin": null,
      "max_height": null,
      "max_width": null,
      "min_height": null,
      "min_width": null,
      "object_fit": null,
      "object_position": null,
      "order": null,
      "overflow": null,
      "overflow_x": null,
      "overflow_y": null,
      "padding": null,
      "right": null,
      "top": null,
      "visibility": null,
      "width": "auto"
     }
    },
    "d2eb5f7e875f40e5acd051d972a5b79c": {
     "model_module": "@jupyter-widgets/controls",
     "model_name": "BoundedIntTextModel",
     "state": {
      "_dom_classes": [],
      "_model_module": "@jupyter-widgets/controls",
      "_model_module_version": "1.5.0",
      "_model_name": "BoundedIntTextModel",
      "_view_count": null,
      "_view_module": "@jupyter-widgets/controls",
      "_view_module_version": "1.5.0",
      "_view_name": "IntTextView",
      "continuous_update": false,
      "description": "",
      "description_tooltip": null,
      "disabled": false,
      "layout": "IPY_MODEL_b66d9953d146401488c50be8d33e9cca",
      "max": 100,
      "min": -100,
      "step": 1,
      "style": "IPY_MODEL_2ce9cb7804434d05af585b001b2cb47f",
      "value": 1
     }
    },
    "e338fb91b4354535976fdc498b789536": {
     "model_module": "@jupyter-widgets/controls",
     "model_name": "DescriptionStyleModel",
     "state": {
      "_model_module": "@jupyter-widgets/controls",
      "_model_module_version": "1.5.0",
      "_model_name": "DescriptionStyleModel",
      "_view_count": null,
      "_view_module": "@jupyter-widgets/base",
      "_view_module_version": "1.2.0",
      "_view_name": "StyleView",
      "description_width": ""
     }
    },
    "e806f4f4cc9042acae0c980b57f68c29": {
     "model_module": "@jupyter-widgets/base",
     "model_name": "LayoutModel",
     "state": {
      "_model_module": "@jupyter-widgets/base",
      "_model_module_version": "1.2.0",
      "_model_name": "LayoutModel",
      "_view_count": null,
      "_view_module": "@jupyter-widgets/base",
      "_view_module_version": "1.2.0",
      "_view_name": "LayoutView",
      "align_content": null,
      "align_items": null,
      "align_self": null,
      "border": null,
      "bottom": null,
      "display": null,
      "flex": null,
      "flex_flow": null,
      "grid_area": "widget005",
      "grid_auto_columns": null,
      "grid_auto_flow": null,
      "grid_auto_rows": null,
      "grid_column": null,
      "grid_gap": null,
      "grid_row": null,
      "grid_template_areas": null,
      "grid_template_columns": null,
      "grid_template_rows": null,
      "height": "auto",
      "justify_content": null,
      "justify_items": null,
      "left": null,
      "margin": null,
      "max_height": null,
      "max_width": null,
      "min_height": null,
      "min_width": null,
      "object_fit": null,
      "object_position": null,
      "order": null,
      "overflow": null,
      "overflow_x": null,
      "overflow_y": null,
      "padding": null,
      "right": null,
      "top": null,
      "visibility": null,
      "width": "auto"
     }
    },
    "ed1b487e49d143149104f06d3a761666": {
     "model_module": "@jupyter-widgets/controls",
     "model_name": "DescriptionStyleModel",
     "state": {
      "_model_module": "@jupyter-widgets/controls",
      "_model_module_version": "1.5.0",
      "_model_name": "DescriptionStyleModel",
      "_view_count": null,
      "_view_module": "@jupyter-widgets/base",
      "_view_module_version": "1.2.0",
      "_view_name": "StyleView",
      "description_width": ""
     }
    },
    "f050673b150e4e60b92bfdbc2df087d8": {
     "model_module": "@jupyter-widgets/controls",
     "model_name": "BoundedIntTextModel",
     "state": {
      "_dom_classes": [],
      "_model_module": "@jupyter-widgets/controls",
      "_model_module_version": "1.5.0",
      "_model_name": "BoundedIntTextModel",
      "_view_count": null,
      "_view_module": "@jupyter-widgets/controls",
      "_view_module_version": "1.5.0",
      "_view_name": "IntTextView",
      "continuous_update": false,
      "description": "",
      "description_tooltip": null,
      "disabled": false,
      "layout": "IPY_MODEL_c6d7e3abfc534b7c951a8053bd65ba8a",
      "max": 100,
      "min": -100,
      "step": 1,
      "style": "IPY_MODEL_893a10e5a8e6467382c1242d883599c0",
      "value": 1
     }
    }
   }
  }
 },
 "nbformat": 4,
 "nbformat_minor": 1
}
